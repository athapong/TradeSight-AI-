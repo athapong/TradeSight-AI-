{
 "cells": [
  {
   "cell_type": "markdown",
   "metadata": {},
   "source": [
    "# Trading Data Exploration\n",
    "\n",
    "This notebook explores the USATECH index data and performs initial analysis to understand the dataset."
   ]
  },
  {
   "cell_type": "code",
   "execution_count": null,
   "metadata": {},
   "outputs": [],
   "source": [
    "# Add parent directory to path to import from src\n",
    "import sys\n",
    "import os\n",
    "sys.path.append(os.path.abspath('..'))\n",
    "\n",
    "# Import required libraries\n",
    "import pandas as pd\n",
    "import numpy as np\n",
    "import matplotlib.pyplot as plt\n",
    "import seaborn as sns\n",
    "\n",
    "# Import from src modules\n",
    "from src.data.loader import load_data, preprocess_data\n",
    "from src.utils.helpers import set_pandas_display_options\n",
    "\n",
    "# Set display options\n",
    "set_pandas_display_options()\n",
    "\n",
    "# Matplotlib settings\n",
    "plt.style.use('seaborn-v0_8-whitegrid')\n",
    "plt.rcParams['figure.figsize'] = [12, 6]\n",
    "%matplotlib inline"
   ]
  },
  {
   "cell_type": "markdown",
   "metadata": {},
   "source": [
    "## 1. Load Data\n",
    "\n",
    "Load the 15-minute and 5-minute USATECH index data."
   ]
  },
  {
   "cell_type": "code",
   "execution_count": null,
   "metadata": {},
   "outputs": [],
   "source": [
    "# Load 15-minute data\n",
    "file_path_15m = '../USATECH.IDXUSD_Candlestick_15_M_BID_01.01.2023-18.01.2025.csv'\n",
    "df_15m = load_data(file_path_15m)\n",
    "df_15m = preprocess_data(df_15m)\n",
    "\n",
    "# Load 5-minute data\n",
    "file_path_5m = '../USATECH.IDXUSD_Candlestick_5_M_BID_01.01.2023-18.01.2025.csv'\n",
    "df_5m = load_data(file_path_5m)\n",
    "df_5m = preprocess_data(df_5m)\n",
    "\n",
    "# Print basic info\n",
    "print(f\"15-minute data: {len(df_15m)} rows from {df_15m.index.min()} to {df_15m.index.max()}\")\n",
    "print(f\"5-minute data: {len(df_5m)} rows from {df_5m.index.min()} to {df_5m.index.max()}\")"
   ]
  },
  {
   "cell_type": "markdown",
   "metadata": {},
   "source": [
    "## 2. Data Overview\n",
    "\n",
    "Let's examine the first few rows of the data to understand its structure."
   ]
  },
  {
   "cell_type": "code",
   "execution_count": null,
   "metadata": {},
   "outputs": [],
   "source": [
    "# Display first few rows of 15-minute data\n",
    "print(\"15-minute data sample:\")\n",
    "df_15m.head()"
   ]
  },
  {
   "cell_type": "code",
   "execution_count": null,
   "metadata": {},
   "outputs": [],
   "source": [
    "# Check for missing values\n",
    "print(\"Missing values in 15-minute data:\")\n",
    "df_15m.isna().sum()"
   ]
  },
  {
   "cell_type": "code",
   "execution_count": null,
   "metadata": {},
   "outputs": [],
   "source": [
    "# Statistical summary of 15-minute data\n",
    "df_15m.describe()"
   ]
  },
  {
   "cell_type": "markdown",
   "metadata": {},
   "source": [
    "## 3. Price Visualization\n",
    "\n",
    "Let's visualize the price data to get a better understanding of the trends and patterns."
   ]
  },
  {
   "cell_type": "code",
   "execution_count": null,
   "metadata": {},
   "outputs": [],
   "source": [
    "# Plot closing price for the entire period\n",
    "plt.figure(figsize=(14, 7))\n",
    "plt.plot(df_15m.index, df_15m['Close'])\n",
    "plt.title('USATECH Index 15-Minute Closing Price')\n",
    "plt.xlabel('Date')\n",
    "plt.ylabel('Price')\n",
    "plt.grid(True)\n",
    "plt.show()"
   ]
  },
  {
   "cell_type": "code",
   "execution_count": null,
   "metadata": {},
   "outputs": [],
   "source": [
    "# Add some basic technical indicators for visualization\n",
    "df_15m['SMA20'] = df_15m['Close'].rolling(window=20).mean()\n",
    "df_15m['SMA50'] = df_15m['Close'].rolling(window=50).mean()\n",
    "df_15m['SMA200'] = df_15m['Close'].rolling(window=200).mean()\n",
    "\n",
    "# Plot recent data with moving averages\n",
    "recent_data = df_15m.iloc[-500:]\n",
    "plt.figure(figsize=(14, 7))\n",
    "plt.plot(recent_data.index, recent_data['Close'], label='Close')\n",
    "plt.plot(recent_data.index, recent_data['SMA20'], label='SMA20')\n",
    "plt.plot(recent_data.index, recent_data['SMA50'], label='SMA50')\n",
    "plt.plot(recent_data.index, recent_data['SMA200'], label='SMA200')\n",
    "plt.title('USATECH Index with Moving Averages (Last 500 Periods)')\n",
    "plt.xlabel('Date')\n",
    "plt.ylabel('Price')\n",
    "plt.legend()\n",
    "plt.grid(True)\n",
    "plt.show()"
   ]
  },
  {
   "cell_type": "markdown",
   "metadata": {},
   "source": [
    "## 4. Daily Returns Analysis\n",
    "\n",
    "Let's analyze the daily returns to understand the volatility and distribution."
   ]
  },
  {
   "cell_type": "code",
   "execution_count": null,
   "metadata": {},
   "outputs": [],
   "source": [
    "# Calculate daily returns\n",
    "df_15m['Returns'] = df_15m['Close'].pct_change() * 100\n",
    "\n",
    "# Plot returns distribution\n",
    "plt.figure(figsize=(12, 6))\n",
    "plt.hist(df_15m['Returns'].dropna(), bins=100, alpha=0.75)\n",
    "plt.title('Distribution of 15-Minute Returns (%)')\n",
    "plt.xlabel('Return (%)')\n",
    "plt.ylabel('Frequency')\n",
    "plt.grid(True)\n",
    "plt.show()"
   ]
  },
  {
   "cell_type": "code",
   "execution_count": null,
   "metadata": {},
   "outputs": [],
   "source": [
    "# Calculate summary statistics for returns\n",
    "returns_stats = df_15m['Returns'].describe()\n",
    "print(\"Returns Statistics:\")\n",
    "print(returns_stats)\n",
    "\n",
    "# Calculate additional metrics\n",
    "print(f\"Skewness: {df_15m['Returns'].skew():.4f}\")\n",
    "print(f\"Kurtosis: {df_15m['Returns'].kurtosis():.4f}\")"
   ]
  },
  {
   "cell_type": "markdown",
   "metadata": {},
   "source": [
    "## 5. Volatility Analysis\n",
    "\n",
    "Let's analyze the volatility of the index over time."
   ]
  },
  {
   "cell_type": "code",
   "execution_count": null,
   "metadata": {},
   "outputs": [],
   "source": [
    "# Calculate rolling volatility (standard deviation of returns)\n",
    "window = 20 * 24  # Approximately 20 trading days (assuming 24 15-min periods per day)\n",
    "df_15m['Volatility'] = df_15m['Returns'].rolling(window=window).std() * np.sqrt(window)\n",
    "\n",
    "# Plot volatility over time\n",
    "plt.figure(figsize=(14, 7))\n",
    "plt.plot(df_15m.index, df_15m['Volatility'].dropna())\n",
    "plt.title(f'USATECH Index {window}-Period Rolling Volatility (Annualized)')\n",
    "plt.xlabel('Date')\n",
    "plt.ylabel('Volatility (%)')\n",
    "plt.grid(True)\n",
    "plt.show()"
   ]
  },
  {
   "cell_type": "markdown",
   "metadata": {},
   "source": [
    "## 6. Volume Analysis\n",
    "\n",
    "Let's analyze the trading volume patterns."
   ]
  },
  {
   "cell_type": "code",
   "execution_count": null,
   "metadata": {},
   "outputs": [],
   "source": [
    "# Plot volume\n",
    "plt.figure(figsize=(14, 7))\n",
    "plt.bar(df_15m.index, df_15m['Volume'], alpha=0.5)\n",
    "plt.title('USATECH Index Trading Volume')\n",
    "plt.xlabel('Date')\n",
    "plt.ylabel('Volume')\n",
    "plt.grid(True)\n",
    "plt.show()"
   ]
  },
  {
   "cell_type": "code",
   "execution_count": null,
   "metadata": {},
   "outputs": [],
   "source": [
    "# Calculate rolling average volume\n",
    "df_15m['Volume_SMA20'] = df_15m['Volume'].rolling(window=20).mean()\n",
    "\n",
    "# Plot recent volume with moving average\n",
    "recent_data = df_15m.iloc[-500:]\n",
    "plt.figure(figsize=(14, 7))\n",
    "plt.bar(recent_data.index, recent_data['Volume'], alpha=0.5, label='Volume')\n",
    "plt.plot(recent_data.index, recent_data['Volume_SMA20'], color='red', label='20-Period MA')\n",
    "plt.title('USATECH Index Trading Volume (Last 500 Periods)')\n",
    "plt.xlabel('Date')\n",
    "plt.ylabel('Volume')\n",
    "plt.legend()\n",
    "plt.grid(True)\n",
    "plt.show()"
   ]
  },
  {
   "cell_type": "markdown",
   "metadata": {},
   "source": [
    "## 7. Time-of-Day Analysis\n",
    "\n",
    "Let's analyze if there are patterns based on the time of day."
   ]
  },
  {
   "cell_type": "code",
   "execution_count": null,
   "metadata": {},
   "outputs": [],
   "source": [
    "# Extract hour of day\n",
    "df_15m['Hour'] = df_15m.index.hour\n",
    "\n",
    "# Analyze returns by hour\n",
    "hourly_returns = df_15m.groupby('Hour')['Returns'].agg(['mean', 'std', 'count'])\n",
    "hourly_returns.columns = ['Average Return (%)', 'Std Dev (%)', 'Count']\n",
    "hourly_returns"
   ]
  },
  {
   "cell_type": "code",
   "execution_count": null,
   "metadata": {},
   "outputs": [],
   "source": [
    "# Plot average returns by hour\n",
    "plt.figure(figsize=(14, 7))\n",
    "plt.bar(hourly_returns.index, hourly_returns['Average Return (%)'])\n",
    "plt.title('Average Returns by Hour of Day')\n",
    "plt.xlabel('Hour of Day')\n",
    "plt.ylabel('Average Return (%)')\n",
    "plt.grid(True)\n",
    "plt.xticks(range(24))\n",
    "plt.show()"
   ]
  },
  {
   "cell_type": "code",
   "execution_count": null,
   "metadata": {},
   "outputs": [],
   "source": [
    "# Plot average volume by hour\n",
    "hourly_volume = df_15m.groupby('Hour')['Volume'].mean()\n",
    "plt.figure(figsize=(14, 7))\n",
    "plt.bar(hourly_volume.index, hourly_volume)\n",
    "plt.title('Average Volume by Hour of Day')\n",
    "plt.xlabel('Hour of Day')\n",
    "plt.ylabel('Average Volume')\n",
    "plt.grid(True)\n",
    "plt.xticks(range(24))\n",
    "plt.show()"
   ]
  },
  {
   "cell_type": "markdown",
   "metadata": {},
   "source": [
    "## 8. Day of Week Analysis\n",
    "\n",
    "Let's analyze if there are patterns based on the day of the week."
   ]
  },
  {
   "cell_type": "code",
   "execution_count": null,
   "metadata": {},
   "outputs": [],
   "source": [
    "# Extract day of week\n",
    "df_15m['DayOfWeek'] = df_15m.index.dayofweek\n",
    "days = ['Monday', 'Tuesday', 'Wednesday', 'Thursday', 'Friday', 'Saturday', 'Sunday']\n",
    "\n",
    "# Analyze returns by day of week\n",
    "day_returns = df_15m.groupby('DayOfWeek')['Returns'].agg(['mean', 'std', 'count'])\n",
    "day_returns.index = [days[i] for i in day_returns.index]\n",
    "day_returns.columns = ['Average Return (%)', 'Std Dev (%)', 'Count']\n",
    "day_returns"
   ]
  },
  {
   "cell_type": "code",
   "execution_count": null,
   "metadata": {},
   "outputs": [],
   "source": [
    "# Plot average returns by day of week\n",
    "plt.figure(figsize=(12, 6))\n",
    "plt.bar(day_returns.index, day_returns['Average Return (%)'])\n",
    "plt.title('Average Returns by Day of Week')\n",
    "plt.xlabel('Day of Week')\n",
    "plt.ylabel('Average Return (%)')\n",
    "plt.grid(True)\n",
    "plt.show()"
   ]
  },
  {
   "cell_type": "markdown",
   "metadata": {},
   "source": [
    "## 9. Correlation Analysis\n",
    "\n",
    "Let's analyze the correlation between different variables."
   ]
  },
  {
   "cell_type": "code",
   "execution_count": null,
   "metadata": {},
   "outputs": [],
   "source": [
    "# Calculate correlations\n",
    "df_corr = df_15m[['Open', 'High', 'Low', 'Close', 'Volume', 'Returns', 'Volatility']].dropna().corr()\n",
    "df_corr"
   ]
  },
  {
   "cell_type": "code",
   "execution_count": null,
   "metadata": {},
   "outputs": [],
   "source": [
    "# Plot correlation heatmap\n",
    "plt.figure(figsize=(10, 8))\n",
    "sns.heatmap(df_corr, annot=True, cmap='coolwarm', fmt='.2f', linewidths=0.5)\n",
    "plt.title('Correlation Matrix')\n",
    "plt.show()"
   ]
  },
  {
   "cell_type": "markdown",
   "metadata": {},
   "source": [
    "## 10. Moving Average Crossover Analysis\n",
    "\n",
    "Let's identify and visualize moving average crossovers, which are common trading signals."
   ]
  },
  {
   "cell_type": "code",
   "execution_count": null,
   "metadata": {},
   "outputs": [],
   "source": [
    "# Identify MA crossovers\n",
    "df_15m['Golden_Cross'] = ((df_15m['SMA50'].shift(1) < df_15m['SMA200'].shift(1)) & \n",
    "                         (df_15m['SMA50'] >= df_15m['SMA200'])).astype(int)\n",
    "df_15m['Death_Cross'] = ((df_15m['SMA50'].shift(1) > df_15m['SMA200'].shift(1)) & \n",
    "                        (df_15m['SMA50'] <= df_15m['SMA200'])).astype(int)\n",
    "\n",
    "# Find crossover dates\n",
    "golden_cross_dates = df_15m[df_15m['Golden_Cross'] == 1].index\n",
    "death_cross_dates = df_15m[df_15m['Death_Cross'] == 1].index\n",
    "\n",
    "print(f\"Found {len(golden_cross_dates)} golden crosses and {len(death_cross_dates)} death crosses\")\n",
    "\n",
    "# Print first few crossover dates\n",
    "print(\"\\nSome Golden Cross dates:\")\n",
    "for date in golden_cross_dates[:5]:\n",
    "    print(date)\n",
    "\n",
    "print(\"\\nSome Death Cross dates:\")\n",
    "for date in death_cross_dates[:5]:\n",
    "    print(date)"
   ]
  },
  {
   "cell_type": "code",
   "execution_count": null,
   "metadata": {},
   "outputs": [],
   "source": [
    "# Plot price with moving averages and crossovers\n",
    "plt.figure(figsize=(14, 7))\n",
    "plt.plot(df_15m.index, df_15m['Close'], label='Close', alpha=0.5)\n",
    "plt.plot(df_15m.index, df_15m['SMA50'], label='SMA50', alpha=0.8)\n",
    "plt.plot(df_15m.index, df_15m['SMA200'], label='SMA200', alpha=0.8)\n",
    "plt.scatter(golden_cross_dates, df_15m.loc[golden_cross_dates, 'Close'], color='green', s=50, label='Golden Cross')\n",
    "plt.scatter(death_cross_dates, df_15m.loc[death_cross_dates, 'Close'], color='red', s=50, label='Death Cross')\n",
    "plt.title('USATECH Index with Moving Average Crossovers')\n",
    "plt.xlabel('Date')\n",
    "plt.ylabel('Price')\n",
    "plt.legend()\n",
    "plt.grid(True)\n",
    "plt.show()"
   ]
  },
  {
   "cell_type": "code",
   "execution_count": null,
   "metadata": {},
   "outputs": [],
   "source": [
    "# Analyze returns after crossovers\n",
    "forward_periods = [1, 5, 10, 20, 50]\n",
    "results = []\n",
    "\n",
    "for periods in forward_periods:\n",
    "    # Golden Cross returns\n",
    "    golden_future_returns = []\n",
    "    for date in golden_cross_dates:\n",
    "        idx = df_15m.index.get_loc(date)\n",
    "        if idx + periods < len(df_15m):\n",
    "            future_return = (df_15m['Close'].iloc[idx + periods] / df_15m['Close'].iloc[idx] - 1) * 100\n",
    "            golden_future_returns.append(future_return)\n",
    "    \n",
    "    # Death Cross returns\n",
    "    death_future_returns = []\n",
    "    for date in death_cross_dates:\n",
    "        idx = df_15m.index.get_loc(date)\n",
    "        if idx + periods < len(df_15m):\n",
    "            future_return = (df_15m['Close'].iloc[idx + periods] / df_15m['Close'].iloc[idx] - 1) * 100\n",
    "            death_future_returns.append(future_return)\n",
    "    \n",
    "    results.append({\n",
    "        'Periods': periods,\n",
    "        'Golden_Cross_Avg_Return': np.mean(golden_future_returns) if golden_future_returns else np.nan,\n",
    "        'Death_Cross_Avg_Return': np.mean(death_future_returns) if death_future_returns else np.nan,\n",
    "        'Golden_Cross_Win_Rate': np.mean([r > 0 for r in golden_future_returns]) * 100 if golden_future_returns else np.nan,\n",
    "        'Death_Cross_Win_Rate': np.mean([r < 0 for r in death_future_returns]) * 100 if death_future_returns else np.nan\n",
    "    })\n",
    "\n",
    "# Display results\n",
    "df_results = pd.DataFrame(results)\n",
    "df_results"
   ]
  },
  {
   "cell_type": "markdown",
   "metadata": {},
   "source": [
    "## Summary and Conclusions\n",
    "\n",
    "Based on the analysis above, here are some key observations about the USATECH index data:\n",
    "\n",
    "1. The dataset provides good coverage from January 2023 to January 2025 with both 5-minute and 15-minute timeframes.\n",
    "2. [Add your observations here based on the analysis results]\n",
    "3. [Add more observations]\n",
    "\n",
    "These insights will inform our feature engineering and model development process in subsequent notebooks."
   ]
  }
 ],
 "metadata": {
  "kernelspec": {
   "display_name": "Python 3",
   "language": "python",
   "name": "python3"
  },
  "language_info": {
   "codemirror_mode": {
    "name": "ipython",
    "version": 3
   },
   "file_extension": ".py",
   "mimetype": "text/x-python",
   "name": "python",
   "nbconvert_exporter": "python",
   "pygments_lexer": "ipython3",
   "version": "3.9.6"
  }
 },
 "nbformat": 4,
 "nbformat_minor": 4
}
