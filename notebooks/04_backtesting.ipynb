{
 "cells": [
  {
   "cell_type": "markdown",
   "metadata": {},
   "source": [
    "# Backtesting Trading Strategy\n",
    "\n",
    "This notebook demonstrates how to backtest our trading entry point prediction model on historical data. We'll cover:\n",
    "- Loading the trained model\n",
    "- Finding entry points\n",
    "- Simulating trades based on model predictions\n",
    "- Analyzing strategy performance\n",
    "- Visualizing results"
   ]
  },
  {
   "cell_type": "code",
   "execution_count": 1,
   "metadata": {},
   "outputs": [],
   "source": [
    "# Add parent directory to path to import from src\n",
    "import sys\n",
    "import os\n",
    "sys.path.append(os.path.abspath('..'))\n",
    "\n",
    "# Import required libraries\n",
    "import pandas as pd\n",
    "import numpy as np\n",
    "import matplotlib.pyplot as plt\n",
    "import seaborn as sns\n",
    "\n",
    "# Import from src modules\n",
    "from src.data.loader import load_data, preprocess_data\n",
    "from src.data.features import prepare_features\n",
    "from src.models.random_forest_model import RandomForestModel\n",
    "from src.backtesting.backtester import backtest_strategy, analyze_backtest_results, generate_backtest_report\n",
    "from src.visualization.charts import plot_entry_points, plot_backtest_results\n",
    "from src.utils.helpers import set_pandas_display_options\n",
    "\n",
    "# Set display options\n",
    "set_pandas_display_options()\n",
    "\n",
    "# Matplotlib settings\n",
    "plt.style.use('seaborn-v0_8-whitegrid')\n",
    "plt.rcParams['figure.figsize'] = [12, 6]\n",
    "%matplotlib inline"
   ]
  },
  {
   "cell_type": "markdown",
   "metadata": {},
   "source": [
    "## 1. Load Trained Model and Data\n",
    "\n",
    "First, let's load our trained model and the data we'll use for backtesting."
   ]
  },
  {
   "cell_type": "code",
   "execution_count": 2,
   "metadata": {},
   "outputs": [
    {
     "name": "stdout",
     "output_type": "stream",
     "text": [
      "Trained model not found. Please run the model training notebook first.\n"
     ]
    }
   ],
   "source": [
    "# Try to load the trained model\n",
    "try:\n",
    "    model = RandomForestModel.load('../trained_model.pkl')\n",
    "    print(\"Loaded saved model successfully\")\n",
    "except FileNotFoundError:\n",
    "    print(\"Trained model not found. Please run the model training notebook first.\")\n",
    "    # Create and train a simple model for demonstration\n",
    "    model = RandomForestModel(\n",
    "        n_estimators=100,\n",
    "        max_depth=10,\n",
    "        random_state=42\n",
    "    )"
   ]
  },
  {
   "cell_type": "code",
   "execution_count": 3,
   "metadata": {},
   "outputs": [
    {
     "name": "stdout",
     "output_type": "stream",
     "text": [
      "Loaded processed dataset with 37 columns and 49815 rows\n"
     ]
    }
   ],
   "source": [
    "# Load the data for backtesting\n",
    "# We'll use a combination of training and test data to have a comprehensive view\n",
    "try:\n",
    "    # Try to load processed data\n",
    "    df_features = pd.read_csv('../processed_data.csv', index_col=0, parse_dates=True)\n",
    "    print(f\"Loaded processed dataset with {df_features.shape[1]} columns and {df_features.shape[0]} rows\")\n",
    "except FileNotFoundError:\n",
    "    print(\"Processed data file not found. Processing raw data...\")\n",
    "    # Load raw data\n",
    "    file_path = '../USATECH.IDXUSD_Candlestick_15_M_BID_01.01.2023-18.01.2025.csv'\n",
    "    df_raw = load_data(file_path)\n",
    "    df = preprocess_data(df_raw)\n",
    "    \n",
    "    # Prepare features\n",
    "    df_features = prepare_features(df, include_target=True)\n",
    "    print(f\"Prepared dataset with {df_features.shape[1]} columns and {df_features.shape[0]} rows\")"
   ]
  },
  {
   "cell_type": "markdown",
   "metadata": {},
   "source": [
    "## 2. Prepare Backtesting Data\n",
    "\n",
    "Let's split our data into training and testing portions to ensure we're testing on out-of-sample data."
   ]
  },
  {
   "cell_type": "code",
   "execution_count": 26,
   "metadata": {},
   "outputs": [
    {
     "name": "stdout",
     "output_type": "stream",
     "text": [
      "Training data: 29889 rows, 2023-01-04 07:45:00+07:00 to 2024-03-26 09:15:00+07:00\n",
      "Testing data: 19926 rows, 2024-03-26 09:30:00+07:00 to 2025-01-18 04:00:00+07:00\n"
     ]
    }
   ],
   "source": [
    "# Split data for backtesting\n",
    "test_size = 0.40  # Use 40% of data for testing\n",
    "train_size = 0.60  # Use 60% of data for training\n",
    "\n",
    "# Calculate split indices\n",
    "train_end_idx = int(len(df_features) * train_size)\n",
    "test_start_idx = train_end_idx\n",
    "\n",
    "# Split data\n",
    "df_train = df_features.iloc[:train_end_idx]\n",
    "df_test = df_features.iloc[test_start_idx:]\n",
    "\n",
    "print(f\"Training data: {len(df_train)} rows, {df_train.index.min()} to {df_train.index.max()}\")\n",
    "print(f\"Testing data: {len(df_test)} rows, {df_test.index.min()} to {df_test.index.max()}\")"
   ]
  },
  {
   "cell_type": "markdown",
   "metadata": {},
   "source": [
    "### Train Model if Needed\n",
    "\n",
    "If we couldn't load a saved model, let's train one on our training data."
   ]
  },
  {
   "cell_type": "code",
   "execution_count": 27,
   "metadata": {},
   "outputs": [],
   "source": [
    "# Train the model if not loaded from file\n",
    "if not hasattr(model, 'model') or model.model is None:\n",
    "    print(\"Training a new model...\")\n",
    "    X_train, y_train = model.extract_features_target(df_train)\n",
    "    model.train(X_train, y_train)\n",
    "    print(\"Model training completed\")"
   ]
  },
  {
   "cell_type": "markdown",
   "metadata": {},
   "source": [
    "## 3. Find Entry Points for Backtesting\n",
    "\n",
    "Now, let's use our model to find potential entry points in the test data."
   ]
  },
  {
   "cell_type": "code",
   "execution_count": 28,
   "metadata": {},
   "outputs": [
    {
     "name": "stdout",
     "output_type": "stream",
     "text": [
      "Found 0 entry points with confidence >= 0.65\n"
     ]
    }
   ],
   "source": [
    "# Extract features and target from test data\n",
    "X_test, y_test = model.extract_features_target(df_test)\n",
    "\n",
    "# Set confidence threshold for entry points\n",
    "confidence_threshold = 0.65\n",
    "\n",
    "# Find entry points\n",
    "entry_points = model.find_entry_points(\n",
    "    X_test, \n",
    "    df_test.index, \n",
    "    df_test['Close'].values, \n",
    "    confidence_threshold=confidence_threshold\n",
    ")\n",
    "\n",
    "print(f\"Found {len(entry_points)} entry points with confidence >= {confidence_threshold}\")"
   ]
  },
  {
   "cell_type": "code",
   "execution_count": 7,
   "metadata": {},
   "outputs": [],
   "source": [
    "# Display some entry points\n",
    "if entry_points:\n",
    "    print(\"Sample entry points:\")\n",
    "    for i, entry in enumerate(entry_points[:5]):\n",
    "        print(f\"\\nEntry Point {i+1}:\")\n",
    "        print(f\"Date: {entry['date']}\")\n",
    "        print(f\"Price: {entry['price']:.2f}\")\n",
    "        print(f\"Direction: {entry['direction']}\")\n",
    "        print(f\"Confidence: {entry['confidence']:.2%}\")\n",
    "        print(f\"Target Price: {entry['target_price']:.2f}\")\n",
    "        print(f\"Stop Loss Price: {entry['stop_loss_price']:.2f}\")"
   ]
  },
  {
   "cell_type": "markdown",
   "metadata": {},
   "source": [
    "## 4. Visualize Entry Points\n",
    "\n",
    "Let's visualize our predicted entry points on a price chart."
   ]
  },
  {
   "cell_type": "code",
   "execution_count": 8,
   "metadata": {},
   "outputs": [],
   "source": [
    "# Plot entry points\n",
    "if entry_points:\n",
    "    fig = plot_entry_points(df_test, entry_points, days=100)\n",
    "    plt.tight_layout()\n",
    "    plt.show()"
   ]
  },
  {
   "cell_type": "markdown",
   "metadata": {},
   "source": [
    "## 5. Backtest the Strategy\n",
    "\n",
    "Now, let's simulate trading these entry points to see how our strategy would have performed."
   ]
  },
  {
   "cell_type": "code",
   "execution_count": 16,
   "metadata": {},
   "outputs": [
    {
     "name": "stdout",
     "output_type": "stream",
     "text": [
      "Running backtest on 0 entry points...\n",
      "Backtest completed with 0 trades\n"
     ]
    }
   ],
   "source": [
    "# Set the number of future bars to look ahead\n",
    "n_future_bars = 150  # Look ahead 150 periods\n",
    "\n",
    "# Run the backtest\n",
    "print(f\"Running backtest on {len(entry_points)} entry points...\")\n",
    "backtest_results = backtest_strategy(df_test, entry_points, n_future_bars=n_future_bars)\n",
    "print(f\"Backtest completed with {len(backtest_results)} trades\")"
   ]
  },
  {
   "cell_type": "code",
   "execution_count": 17,
   "metadata": {},
   "outputs": [],
   "source": [
    "# Display sample results\n",
    "if backtest_results:\n",
    "    print(\"Sample trade results:\")\n",
    "    for i, result in enumerate(backtest_results[:5]):\n",
    "        print(f\"\\nTrade {i+1}:\")\n",
    "        print(f\"Entry: {result['timestamp']} at {result['entry_price']:.2f} ({result['direction']})\")\n",
    "        print(f\"Exit: {result['exit_timestamp']} at {result['exit_price']:.2f}\")\n",
    "        print(f\"Outcome: {result['outcome']}\")\n",
    "        print(f\"Profit/Loss: {result['profit_pct']:.2f}%\")\n",
    "        print(f\"Bars Held: {result['bars_held']}\")"
   ]
  },
  {
   "cell_type": "markdown",
   "metadata": {},
   "source": [
    "## 6. Analyze Backtest Results\n",
    "\n",
    "Let's analyze the performance of our backtested strategy."
   ]
  },
  {
   "cell_type": "code",
   "execution_count": 18,
   "metadata": {},
   "outputs": [
    {
     "ename": "ZeroDivisionError",
     "evalue": "division by zero",
     "output_type": "error",
     "traceback": [
      "\u001b[0;31m---------------------------------------------------------------------------\u001b[0m",
      "\u001b[0;31mZeroDivisionError\u001b[0m                         Traceback (most recent call last)",
      "Cell \u001b[0;32mIn[18], line 5\u001b[0m\n\u001b[1;32m      2\u001b[0m backtest_analysis \u001b[38;5;241m=\u001b[39m analyze_backtest_results(backtest_results)\n\u001b[1;32m      4\u001b[0m \u001b[38;5;66;03m# Generate backtest report\u001b[39;00m\n\u001b[0;32m----> 5\u001b[0m backtest_report \u001b[38;5;241m=\u001b[39m \u001b[43mgenerate_backtest_report\u001b[49m\u001b[43m(\u001b[49m\u001b[43mbacktest_analysis\u001b[49m\u001b[43m)\u001b[49m\n\u001b[1;32m      6\u001b[0m \u001b[38;5;28mprint\u001b[39m(backtest_report)\n",
      "File \u001b[0;32m~/Development/experimental/trading/src/backtesting/backtester.py:226\u001b[0m, in \u001b[0;36mgenerate_backtest_report\u001b[0;34m(analysis)\u001b[0m\n\u001b[1;32m    224\u001b[0m \u001b[38;5;66;03m# Trade breakdown\u001b[39;00m\n\u001b[1;32m    225\u001b[0m report \u001b[38;5;241m+\u001b[39m\u001b[38;5;241m=\u001b[39m \u001b[38;5;124m\"\u001b[39m\u001b[38;5;124mTRADE BREAKDOWN:\u001b[39m\u001b[38;5;130;01m\\n\u001b[39;00m\u001b[38;5;124m\"\u001b[39m\n\u001b[0;32m--> 226\u001b[0m report \u001b[38;5;241m+\u001b[39m\u001b[38;5;241m=\u001b[39m \u001b[38;5;124mf\u001b[39m\u001b[38;5;124m\"\u001b[39m\u001b[38;5;124mWinning trades: \u001b[39m\u001b[38;5;132;01m{\u001b[39;00manalysis[\u001b[38;5;124m'\u001b[39m\u001b[38;5;124mwinning_trades\u001b[39m\u001b[38;5;124m'\u001b[39m]\u001b[38;5;132;01m}\u001b[39;00m\u001b[38;5;124m (\u001b[39m\u001b[38;5;132;01m{\u001b[39;00manalysis[\u001b[38;5;124m'\u001b[39m\u001b[38;5;124mwinning_trades\u001b[39m\u001b[38;5;124m'\u001b[39m]\u001b[38;5;241m/\u001b[39manalysis[\u001b[38;5;124m'\u001b[39m\u001b[38;5;124mtotal_trades\u001b[39m\u001b[38;5;124m'\u001b[39m]\u001b[38;5;241m*\u001b[39m\u001b[38;5;241m100\u001b[39m\u001b[38;5;132;01m:\u001b[39;00m\u001b[38;5;124m.1f\u001b[39m\u001b[38;5;132;01m}\u001b[39;00m\u001b[38;5;124m% of total)\u001b[39m\u001b[38;5;130;01m\\n\u001b[39;00m\u001b[38;5;124m\"\u001b[39m\n\u001b[1;32m    227\u001b[0m report \u001b[38;5;241m+\u001b[39m\u001b[38;5;241m=\u001b[39m \u001b[38;5;124mf\u001b[39m\u001b[38;5;124m\"\u001b[39m\u001b[38;5;124mLosing trades: \u001b[39m\u001b[38;5;132;01m{\u001b[39;00manalysis[\u001b[38;5;124m'\u001b[39m\u001b[38;5;124mlosing_trades\u001b[39m\u001b[38;5;124m'\u001b[39m]\u001b[38;5;132;01m}\u001b[39;00m\u001b[38;5;124m (\u001b[39m\u001b[38;5;132;01m{\u001b[39;00manalysis[\u001b[38;5;124m'\u001b[39m\u001b[38;5;124mlosing_trades\u001b[39m\u001b[38;5;124m'\u001b[39m]\u001b[38;5;241m/\u001b[39manalysis[\u001b[38;5;124m'\u001b[39m\u001b[38;5;124mtotal_trades\u001b[39m\u001b[38;5;124m'\u001b[39m]\u001b[38;5;241m*\u001b[39m\u001b[38;5;241m100\u001b[39m\u001b[38;5;132;01m:\u001b[39;00m\u001b[38;5;124m.1f\u001b[39m\u001b[38;5;132;01m}\u001b[39;00m\u001b[38;5;124m% of total)\u001b[39m\u001b[38;5;130;01m\\n\u001b[39;00m\u001b[38;5;124m\"\u001b[39m\n\u001b[1;32m    228\u001b[0m report \u001b[38;5;241m+\u001b[39m\u001b[38;5;241m=\u001b[39m \u001b[38;5;124mf\u001b[39m\u001b[38;5;124m\"\u001b[39m\u001b[38;5;124mIncomplete trades: \u001b[39m\u001b[38;5;132;01m{\u001b[39;00manalysis[\u001b[38;5;124m'\u001b[39m\u001b[38;5;124mincomplete_trades\u001b[39m\u001b[38;5;124m'\u001b[39m]\u001b[38;5;132;01m}\u001b[39;00m\u001b[38;5;124m (\u001b[39m\u001b[38;5;132;01m{\u001b[39;00manalysis[\u001b[38;5;124m'\u001b[39m\u001b[38;5;124mincomplete_trades\u001b[39m\u001b[38;5;124m'\u001b[39m]\u001b[38;5;241m/\u001b[39manalysis[\u001b[38;5;124m'\u001b[39m\u001b[38;5;124mtotal_trades\u001b[39m\u001b[38;5;124m'\u001b[39m]\u001b[38;5;241m*\u001b[39m\u001b[38;5;241m100\u001b[39m\u001b[38;5;132;01m:\u001b[39;00m\u001b[38;5;124m.1f\u001b[39m\u001b[38;5;132;01m}\u001b[39;00m\u001b[38;5;124m% of total)\u001b[39m\u001b[38;5;130;01m\\n\u001b[39;00m\u001b[38;5;130;01m\\n\u001b[39;00m\u001b[38;5;124m\"\u001b[39m\n",
      "\u001b[0;31mZeroDivisionError\u001b[0m: division by zero"
     ]
    }
   ],
   "source": [
    "# Analyze backtest results\n",
    "backtest_analysis = analyze_backtest_results(backtest_results)\n",
    "\n",
    "# Generate backtest report\n",
    "backtest_report = generate_backtest_report(backtest_analysis)\n",
    "print(backtest_report)"
   ]
  },
  {
   "cell_type": "code",
   "execution_count": null,
   "metadata": {},
   "outputs": [],
   "source": [
    "# Visualize backtest results\n",
    "if backtest_results:\n",
    "    fig = plot_backtest_results(backtest_results)\n",
    "    plt.tight_layout()\n",
    "    plt.show()"
   ]
  },
  {
   "cell_type": "markdown",
   "metadata": {},
   "source": [
    "## 7. Monthly Performance Analysis\n",
    "\n",
    "Let's break down our strategy performance by month to see if there are any seasonal patterns."
   ]
  },
  {
   "cell_type": "code",
   "execution_count": null,
   "metadata": {},
   "outputs": [],
   "source": [
    "# Convert to DataFrame for easier analysis\n",
    "if backtest_results:\n",
    "    df_results = pd.DataFrame(backtest_results)\n",
    "    \n",
    "    # Convert timestamp to datetime if needed\n",
    "    if not pd.api.types.is_datetime64_any_dtype(df_results['timestamp']):\n",
    "        df_results['timestamp'] = pd.to_datetime(df_results['timestamp'])\n",
    "    \n",
    "    # Extract month and year\n",
    "    df_results['month'] = df_results['timestamp'].dt.month\n",
    "    df_results['year'] = df_results['timestamp'].dt.year\n",
    "    df_results['month_year'] = df_results['timestamp'].dt.strftime('%Y-%m')\n",
    "    \n",
    "    # Group by month and analyze performance\n",
    "    monthly_performance = df_results.groupby('month_year').agg({\n",
    "        'profit_pct': ['mean', 'sum', 'count'],\n",
    "        'outcome': lambda x: (x == 'WIN').mean() * 100  # Win rate as percentage\n",
    "    })\n",
    "    \n",
    "    # Flatten multi-index columns\n",
    "    monthly_performance.columns = ['avg_profit_pct', 'total_profit_pct', 'num_trades', 'win_rate']\n",
    "    \n",
    "    # Sort by date\n",
    "    monthly_performance = monthly_performance.sort_index()\n",
    "    \n",
    "    print(\"Monthly Performance:\")\n",
    "    print(monthly_performance)"
   ]
  },
  {
   "cell_type": "code",
   "execution_count": null,
   "metadata": {},
   "outputs": [],
   "source": [
    "# Visualize monthly performance\n",
    "if backtest_results and len(monthly_performance) > 0:\n",
    "    fig, ax1 = plt.subplots(figsize=(14, 7))\n",
    "    \n",
    "    # Bar chart for total profit\n",
    "    bars = ax1.bar(monthly_performance.index, monthly_performance['total_profit_pct'], \n",
    "                  color=['green' if x > 0 else 'red' for x in monthly_performance['total_profit_pct']])\n",
    "    ax1.set_xlabel('Month')\n",
    "    ax1.set_ylabel('Total Profit (%)', color='black')\n",
    "    ax1.tick_params(axis='y', labelcolor='black')\n",
    "    ax1.set_xticklabels(monthly_performance.index, rotation=45)\n",
    "    \n",
    "    # Line chart for win rate on secondary y-axis\n",
    "    ax2 = ax1.twinx()\n",
    "    ax2.plot(monthly_performance.index, monthly_performance['win_rate'], 'b-', marker='o')\n",
    "    ax2.set_ylabel('Win Rate (%)', color='blue')\n",
    "    ax2.tick_params(axis='y', labelcolor='blue')\n",
    "    ax2.set_ylim(0, 100)\n",
    "    \n",
    "    # Add number of trades as text on bars\n",
    "    for i, bar in enumerate(bars):\n",
    "        num_trades = monthly_performance['num_trades'].iloc[i]\n",
    "        ax1.text(i, bar.get_height() + (0.1 if bar.get_height() >= 0 else -0.5), \n",
    "                f\"{num_trades} trades\", ha='center', va='bottom', rotation=0)\n",
    "    \n",
    "    plt.title('Monthly Performance')\n",
    "    plt.tight_layout()\n",
    "    plt.show()"
   ]
  },
  {
   "cell_type": "markdown",
   "metadata": {},
   "source": [
    "## 8. Trade Duration Analysis\n",
    "\n",
    "Let's analyze how trade duration affects profitability."
   ]
  },
  {
   "cell_type": "code",
   "execution_count": null,
   "metadata": {},
   "outputs": [],
   "source": [
    "# Analyze trade duration vs. profit\n",
    "if backtest_results:\n",
    "    # Group by bars held\n",
    "    duration_analysis = df_results.groupby('bars_held').agg({\n",
    "        'profit_pct': ['mean', 'count'],\n",
    "        'outcome': lambda x: (x == 'WIN').mean() * 100  # Win rate as percentage\n",
    "    })\n",
    "    \n",
    "    # Flatten multi-index columns\n",
    "    duration_analysis.columns = ['avg_profit_pct', 'num_trades', 'win_rate']\n",
    "    \n",
    "    print(\"Trade Duration Analysis:\")\n",
    "    print(duration_analysis)"
   ]
  },
  {
   "cell_type": "code",
   "execution_count": null,
   "metadata": {},
   "outputs": [],
   "source": [
    "# Visualize trade duration vs. profit\n",
    "if backtest_results and len(duration_analysis) > 0:\n",
    "    fig, ax1 = plt.subplots(figsize=(14, 7))\n",
    "    \n",
    "    # Bar chart for average profit\n",
    "    bars = ax1.bar(duration_analysis.index, duration_analysis['avg_profit_pct'], \n",
    "                  color=['green' if x > 0 else 'red' for x in duration_analysis['avg_profit_pct']])\n",
    "    ax1.set_xlabel('Trade Duration (bars)')\n",
    "    ax1.set_ylabel('Average Profit per Trade (%)', color='black')\n",
    "    ax1.tick_params(axis='y', labelcolor='black')\n",
    "    \n",
    "    # Line chart for win rate on secondary y-axis\n",
    "    ax2 = ax1.twinx()\n",
    "    ax2.plot(duration_analysis.index, duration_analysis['win_rate'], 'b-', marker='o')\n",
    "    ax2.set_ylabel('Win Rate (%)', color='blue')\n",
    "    ax2.tick_params(axis='y', labelcolor='blue')\n",
    "    ax2.set_ylim(0, 100)\n",
    "    \n",
    "    # Add number of trades as text on bars\n",
    "    for i, bar in enumerate(bars):\n",
    "        num_trades = duration_analysis['num_trades'].iloc[i]\n",
    "        ax1.text(i, bar.get_height() + (0.1 if bar.get_height() >= 0 else -0.5), \n",
    "                f\"{num_trades}\", ha='center', va='bottom', rotation=0)\n",
    "    \n",
    "    plt.title('Trade Duration vs. Profitability')\n",
    "    plt.grid(True, alpha=0.3)\n",
    "    plt.tight_layout()\n",
    "    plt.show()"
   ]
  },
  {
   "cell_type": "markdown",
   "metadata": {},
   "source": [
    "## 9. Equity Curve\n",
    "\n",
    "Let's create an equity curve to see the cumulative performance of our strategy over time."
   ]
  },
  {
   "cell_type": "code",
   "execution_count": null,
   "metadata": {},
   "outputs": [],
   "source": [
    "# Create equity curve\n",
    "if backtest_results:\n",
    "    # Sort by timestamp\n",
    "    df_results = df_results.sort_values('timestamp')\n",
    "    \n",
    "    # Calculate cumulative returns (assumes equal position sizing)\n",
    "    df_results['cum_return'] = (1 + df_results['profit_pct']/100).cumprod() - 1\n",
    "    df_results['cum_return_pct'] = df_results['cum_return'] * 100\n",
    "    \n",
    "    # Calculate drawdowns\n",
    "    df_results['peak'] = df_results['cum_return'].cummax()\n",
    "    df_results['drawdown'] = (df_results['cum_return'] / df_results['peak'] - 1) * 100\n",
    "    \n",
    "    # Plot equity curve\n",
    "    fig, (ax1, ax2) = plt.subplots(2, 1, figsize=(14, 10), sharex=True, \n",
    "                                  gridspec_kw={'height_ratios': [3, 1]})\n",
    "    \n",
    "    # Equity curve\n",
    "    ax1.plot(df_results['timestamp'], df_results['cum_return_pct'], label='Equity Curve')\n",
    "    ax1.set_ylabel('Cumulative Return (%)')\n",
    "    ax1.set_title('Strategy Equity Curve')\n",
    "    ax1.grid(True, alpha=0.3)\n",
    "    ax1.legend()\n",
    "    \n",
    "    # Drawdown\n",
    "    ax2.fill_between(df_results['timestamp'], df_results['drawdown'], 0, color='red', alpha=0.3, label='Drawdown')\n",
    "    ax2.set_ylabel('Drawdown (%)')\n",
    "    ax2.set_xlabel('Date')\n",
    "    ax2.grid(True, alpha=0.3)\n",
    "    ax2.legend()\n",
    "    \n",
    "    plt.tight_layout()\n",
    "    plt.show()\n",
    "    \n",
    "    # Print key statistics\n",
    "    final_return = df_results['cum_return_pct'].iloc[-1]\n",
    "    max_drawdown = df_results['drawdown'].min()\n",
    "    \n",
    "    print(f\"Final Return: {final_return:.2f}%\")\n",
    "    print(f\"Max Drawdown: {max_drawdown:.2f}%\")\n",
    "    print(f\"Return/Max Drawdown Ratio: {abs(final_return/max_drawdown):.2f}\")"
   ]
  },
  {
   "cell_type": "markdown",
   "metadata": {},
   "source": [
    "## 10. Strategy Refinement Ideas\n",
    "\n",
    "Based on our backtest results, let's consider some potential refinements to improve the strategy."
   ]
  },
  {
   "cell_type": "markdown",
   "metadata": {},
   "source": [
    "### Analyze Failed Trades\n",
    "\n",
    "Let's look at the characteristics of losing trades to identify potential improvements."
   ]
  },
  {
   "cell_type": "code",
   "execution_count": null,
   "metadata": {},
   "outputs": [],
   "source": [
    "# Analyze losing trades vs. winning trades\n",
    "if backtest_results:\n",
    "    winning_trades = df_results[df_results['outcome'] == 'WIN']\n",
    "    losing_trades = df_results[df_results['outcome'] == 'LOSS']\n",
    "    \n",
    "    print(f\"Number of winning trades: {len(winning_trades)}\")\n",
    "    print(f\"Number of losing trades: {len(losing_trades)}\")\n",
    "    \n",
    "    # Calculate average trade characteristics\n",
    "    print(\"\\nAverage trade characteristics:\")\n",
    "    print(f\"Average profit on winning trades: {winning_trades['profit_pct'].mean():.2f}%\")\n",
    "    print(f\"Average loss on losing trades: {losing_trades['profit_pct'].mean():.2f}%\")\n",
    "    print(f\"Average duration of winning trades: {winning_trades['bars_held'].mean():.2f} bars\")\n",
    "    print(f\"Average duration of losing trades: {losing_trades['bars_held'].mean():.2f} bars\")\n",
    "    \n",
    "    # Analyze direction bias\n",
    "    if 'direction' in df_results.columns:\n",
    "        long_trades = df_results[df_results['direction'] == 'LONG']\n",
    "        short_trades = df_results[df_results['direction'] == 'SHORT']\n",
    "        \n",
    "        print(\"\\nDirection analysis:\")\n",
    "        print(f\"Long trades: {len(long_trades)}, Win rate: {(long_trades['outcome'] == 'WIN').mean() * 100:.2f}%\")\n",
    "        print(f\"Short trades: {len(short_trades)}, Win rate: {(short_trades['outcome'] == 'WIN').mean() * 100:.2f}%\")\n",
    "        print(f\"Average profit on long trades: {long_trades['profit_pct'].mean():.2f}%\")\n",
    "        print(f\"Average profit on short trades: {short_trades['profit_pct'].mean():.2f}%\")"
   ]
  },
  {
   "cell_type": "markdown",
   "metadata": {},
   "source": [
    "### Potential Strategy Refinements\n",
    "\n",
    "Based on our analysis, here are some potential refinements to consider:\n",
    "\n",
    "1. **Adjust position sizing** - Consider using variable position sizing based on prediction confidence.\n",
    "2. **Optimize profit targets and stop losses** - Analyze the optimal risk-reward ratio.\n",
    "3. **Apply time filters** - Only trade during certain hours of the day or days of the week.\n",
    "4. **Apply market condition filters** - Only trade during specific market conditions (e.g., low volatility, trending markets).\n",
    "5. **Combine with other indicators** - Add additional filters using traditional indicators.\n",
    "6. **Adjust confidence threshold** - Increase or decrease based on backtest results.\n",
    "7. **Optimize trade duration** - Set maximum holding period based on the analysis."
   ]
  },
  {
   "cell_type": "markdown",
   "metadata": {},
   "source": [
    "## 11. Save Backtest Results\n",
    "\n",
    "Let's save our backtest results for future reference and comparison."
   ]
  },
  {
   "cell_type": "code",
   "execution_count": null,
   "metadata": {},
   "outputs": [],
   "source": [
    "# Save backtest results and report\n",
    "if backtest_results:\n",
    "    # Save DataFrame to CSV\n",
    "    df_results.to_csv('../backtest_results.csv', index=False)\n",
    "    print(\"Saved backtest results to '../backtest_results.csv'\")\n",
    "    \n",
    "    # Save backtest report to text file\n",
    "    with open('../backtest_report.txt', 'w') as f:\n",
    "        f.write(backtest_report)\n",
    "    print(\"Saved backtest report to '../backtest_report.txt'\")"
   ]
  },
  {
   "cell_type": "markdown",
   "metadata": {},
   "source": [
    "## Summary\n",
    "\n",
    "In this notebook, we've completed a comprehensive backtest of our trading entry point prediction model:\n",
    "\n",
    "1. Loaded our trained model and prepared backtesting data\n",
    "2. Found potential entry points based on model predictions\n",
    "3. Visualized these entry points on price charts\n",
    "4. Simulated trades with target prices and stop losses\n",
    "5. Analyzed overall strategy performance\n",
    "6. Examined monthly performance patterns\n",
    "7. Analyzed the relationship between trade duration and profitability\n",
    "8. Created an equity curve to visualize cumulative returns\n",
    "9. Identified characteristics of winning and losing trades\n",
    "10. Proposed potential refinements to improve the strategy\n",
    "\n",
    "Next, we can use these insights to refine our model and trading strategy for better performance."
   ]
  }
 ],
 "metadata": {
  "kernelspec": {
   "display_name": ".venv",
   "language": "python",
   "name": "python3"
  },
  "language_info": {
   "codemirror_mode": {
    "name": "ipython",
    "version": 3
   },
   "file_extension": ".py",
   "mimetype": "text/x-python",
   "name": "python",
   "nbconvert_exporter": "python",
   "pygments_lexer": "ipython3",
   "version": "3.9.6"
  }
 },
 "nbformat": 4,
 "nbformat_minor": 4
}
