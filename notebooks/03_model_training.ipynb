{
 "cells": [
  {
   "cell_type": "markdown",
   "metadata": {},
   "source": [
    "# Model Training for Trading Entry Points\n",
    "\n",
    "This notebook demonstrates the process of training and evaluating our trading entry point prediction model. We'll cover:\n",
    "- Loading the prepared dataset\n",
    "- Train/test splitting\n",
    "- Model training\n",
    "- Evaluation and validation\n",
    "- Model explanation"
   ]
  },
  {
   "cell_type": "code",
   "execution_count": 1,
   "metadata": {},
   "outputs": [],
   "source": [
    "# Add parent directory to path to import from src\n",
    "import sys\n",
    "import os\n",
    "sys.path.append(os.path.abspath('..'))\n",
    "\n",
    "# Import required libraries\n",
    "import pandas as pd\n",
    "import numpy as np\n",
    "import matplotlib.pyplot as plt\n",
    "import seaborn as sns\n",
    "from sklearn.metrics import classification_report, confusion_matrix\n",
    "from sklearn.model_selection import cross_val_score, TimeSeriesSplit\n",
    "\n",
    "# Import from src modules\n",
    "from src.data.loader import load_data, preprocess_data\n",
    "from src.data.features import prepare_features\n",
    "from src.models.random_forest_model import RandomForestModel\n",
    "from src.visualization.charts import plot_feature_importance\n",
    "from src.utils.helpers import set_pandas_display_options\n",
    "\n",
    "# Set display options\n",
    "set_pandas_display_options()\n",
    "\n",
    "# Matplotlib settings\n",
    "plt.style.use('seaborn-v0_8-whitegrid')\n",
    "plt.rcParams['figure.figsize'] = [12, 6]\n",
    "%matplotlib inline"
   ]
  },
  {
   "cell_type": "markdown",
   "metadata": {},
   "source": [
    "## 1. Load Prepared Dataset\n",
    "\n",
    "Let's load the dataset we prepared in the previous notebook."
   ]
  },
  {
   "cell_type": "code",
   "execution_count": 2,
   "metadata": {},
   "outputs": [
    {
     "name": "stdout",
     "output_type": "stream",
     "text": [
      "Loaded processed dataset with 37 columns and 49815 rows\n"
     ]
    },
    {
     "data": {
      "application/vnd.microsoft.datawrangler.viewer.v0+json": {
       "columns": [
        {
         "name": "timestamp",
         "rawType": "datetime64[ns, UTC+07:00]",
         "type": "unknown"
        },
        {
         "name": "Open",
         "rawType": "float64",
         "type": "float"
        },
        {
         "name": "High",
         "rawType": "float64",
         "type": "float"
        },
        {
         "name": "Low",
         "rawType": "float64",
         "type": "float"
        },
        {
         "name": "Close",
         "rawType": "float64",
         "type": "float"
        },
        {
         "name": "Volume",
         "rawType": "float64",
         "type": "float"
        },
        {
         "name": "SMA20",
         "rawType": "float64",
         "type": "float"
        },
        {
         "name": "SMA50",
         "rawType": "float64",
         "type": "float"
        },
        {
         "name": "SMA200",
         "rawType": "float64",
         "type": "float"
        },
        {
         "name": "EMA12",
         "rawType": "float64",
         "type": "float"
        },
        {
         "name": "EMA26",
         "rawType": "float64",
         "type": "float"
        },
        {
         "name": "RSI",
         "rawType": "float64",
         "type": "float"
        },
        {
         "name": "MACD",
         "rawType": "float64",
         "type": "float"
        },
        {
         "name": "MACD_Signal",
         "rawType": "float64",
         "type": "float"
        },
        {
         "name": "MACD_Hist",
         "rawType": "float64",
         "type": "float"
        },
        {
         "name": "ATR",
         "rawType": "float64",
         "type": "float"
        },
        {
         "name": "BB_Upper",
         "rawType": "float64",
         "type": "float"
        },
        {
         "name": "BB_Middle",
         "rawType": "float64",
         "type": "float"
        },
        {
         "name": "BB_Lower",
         "rawType": "float64",
         "type": "float"
        },
        {
         "name": "ADX",
         "rawType": "float64",
         "type": "float"
        },
        {
         "name": "Close_SMA20_Ratio",
         "rawType": "float64",
         "type": "float"
        },
        {
         "name": "Close_SMA50_Ratio",
         "rawType": "float64",
         "type": "float"
        },
        {
         "name": "Close_SMA200_Ratio",
         "rawType": "float64",
         "type": "float"
        },
        {
         "name": "BB_Position",
         "rawType": "float64",
         "type": "float"
        },
        {
         "name": "Golden_Cross",
         "rawType": "int64",
         "type": "integer"
        },
        {
         "name": "Death_Cross",
         "rawType": "int64",
         "type": "integer"
        },
        {
         "name": "MACD_Cross_Above",
         "rawType": "int64",
         "type": "integer"
        },
        {
         "name": "MACD_Cross_Below",
         "rawType": "int64",
         "type": "integer"
        },
        {
         "name": "Daily_Return",
         "rawType": "float64",
         "type": "float"
        },
        {
         "name": "Weekly_Return",
         "rawType": "float64",
         "type": "float"
        },
        {
         "name": "Monthly_Return",
         "rawType": "float64",
         "type": "float"
        },
        {
         "name": "DayOfWeek",
         "rawType": "int64",
         "type": "integer"
        },
        {
         "name": "HourOfDay",
         "rawType": "int64",
         "type": "integer"
        },
        {
         "name": "Volume_SMA20",
         "rawType": "float64",
         "type": "float"
        },
        {
         "name": "Volume_Ratio",
         "rawType": "float64",
         "type": "float"
        },
        {
         "name": "High_Volume",
         "rawType": "int64",
         "type": "integer"
        },
        {
         "name": "Volume_Trend",
         "rawType": "float64",
         "type": "float"
        },
        {
         "name": "Target",
         "rawType": "int64",
         "type": "integer"
        }
       ],
       "conversionMethod": "pd.DataFrame",
       "ref": "05e8c119-95d0-4f7f-9d2b-bba48588cb0e",
       "rows": [
        [
         "2023-01-04 07:45:00+07:00",
         "10865.179",
         "10869.499",
         "10863.059",
         "10865.859",
         "615540.9981000001",
         "10857.340499999986",
         "10875.255359999992",
         "10940.923820000002",
         "10860.820590836662",
         "10860.004759371202",
         "52.761674445788685",
         "0.8158314654592687",
         "-3.4886440701806394",
         "4.304475535639908",
         "17.04327243530652",
         "10875.942008877855",
         "10857.340499999986",
         "10838.738991122114",
         "12.243588811358393",
         "1.0007845844016787",
         "0.9991359871847652",
         "0.993139078451238",
         "0.7289733606005597",
         "0",
         "0",
         "0",
         "0",
         "7.455097533370925e-05",
         "0.0004806347029857",
         "0.0008805947588583",
         "2",
         "7",
         "697819.3479149996",
         "0.8820921918246645",
         "0",
         "-74950.15682503759",
         "0"
        ],
        [
         "2023-01-04 08:00:00+07:00",
         "10866.289",
         "10888.499",
         "10864.279",
         "10886.519",
         "699310.9899",
         "10858.089999999986",
         "10872.639759999993",
         "10940.564220000002",
         "10864.774192246408",
         "10861.968777195558",
         "61.0538918109225",
         "2.805415050848751",
         "-2.2298322459747615",
         "5.0352472968235125",
         "17.55589583278458",
         "10879.856566048751",
         "10858.089999999986",
         "10836.323433951218",
         "13.026992796223343",
         "1.002618232120015",
         "1.001276529003662",
         "0.9950601066898174",
         "1.1530428349680952",
         "0",
         "0",
         "0",
         "0",
         "0.0019013683133566",
         "0.0019908164731365",
         "0.0013788308893809",
         "2",
         "8",
         "623132.4981399996",
         "1.1222508727877092",
         "0",
         "-51319.97443037594",
         "0"
        ],
        [
         "2023-01-04 08:15:00+07:00",
         "10886.739",
         "10889.389",
         "10883.129",
         "10888.589",
         "632279.0048000001",
         "10859.423499999986",
         "10870.194959999992",
         "10940.214970000005",
         "10868.438008823883",
         "10863.940645551442",
         "61.77785412608139",
         "4.497363272441362",
         "-0.8843931422915368",
         "5.381756414732899",
         "16.74904613044271",
         "10884.914205373943",
         "10859.423499999986",
         "10833.932794626027",
         "13.80599051286752",
         "1.0026857318899125",
         "1.0016921536428458",
         "0.9952810826714492",
         "1.072081069788852",
         "0",
         "0",
         "0",
         "0",
         "0.0001901434241744",
         "0.001981216813123",
         "0.0024553672329907",
         "2",
         "8",
         "546456.6991999994",
         "1.1570523441759295",
         "0",
         "-26831.48133172934",
         "0"
        ],
        [
         "2023-01-04 08:30:00+07:00",
         "10888.567",
         "10900.799",
         "10885.529",
         "10895.629",
         "876665.0111",
         "10861.275999999987",
         "10868.13395999999",
         "10939.900920000007",
         "10872.621238235592",
         "10866.28793106615",
         "64.21425609056803",
         "6.333307169443287",
         "0.5591469200554282",
         "5.774160249387859",
         "16.643399978268263",
         "10891.243883566887",
         "10861.275999999987",
         "10831.308116433089",
         "15.153411489320266",
         "1.0031628880437264",
         "1.0025298768032491",
         "0.9959531699305366",
         "1.0731635990129946",
         "0",
         "0",
         "0",
         "0",
         "0.0006465484187161",
         "0.0016768730069323",
         "0.0034120486667732",
         "2",
         "8",
         "482007.6489249995",
         "1.818778214526652",
         "1",
         "3451.9273836841717",
         "0"
        ],
        [
         "2023-01-04 08:45:00+07:00",
         "10895.919",
         "10898.099",
         "10893.319",
         "10893.799",
         "625564.0090000001",
         "10862.896499999986",
         "10865.88655999999",
         "10939.577720000008",
         "10875.879355430116",
         "10868.325788024213",
         "63.08849265080588",
         "7.553567405904687",
         "1.95803101722528",
         "5.595536388679407",
         "15.796014265534865",
         "10896.04942621278",
         "10862.896499999986",
         "10829.743573787193",
         "16.404588110312105",
         "1.0028447753322527",
         "1.0025688138603217",
         "0.9958153119643444",
         "0.9660599158226008",
         "0",
         "0",
         "0",
         "0",
         "-0.0001679572606593",
         "0.0026460994331456",
         "0.0029839645739602",
         "2",
         "8",
         "407530.2006149995",
         "1.5350126396914094",
         "1",
         "31288.60610037591",
         "0"
        ]
       ],
       "shape": {
        "columns": 37,
        "rows": 5
       }
      },
      "text/html": [
       "<div>\n",
       "<style scoped>\n",
       "    .dataframe tbody tr th:only-of-type {\n",
       "        vertical-align: middle;\n",
       "    }\n",
       "\n",
       "    .dataframe tbody tr th {\n",
       "        vertical-align: top;\n",
       "    }\n",
       "\n",
       "    .dataframe thead th {\n",
       "        text-align: right;\n",
       "    }\n",
       "</style>\n",
       "<table border=\"1\" class=\"dataframe\">\n",
       "  <thead>\n",
       "    <tr style=\"text-align: right;\">\n",
       "      <th></th>\n",
       "      <th>Open</th>\n",
       "      <th>High</th>\n",
       "      <th>Low</th>\n",
       "      <th>Close</th>\n",
       "      <th>Volume</th>\n",
       "      <th>SMA20</th>\n",
       "      <th>SMA50</th>\n",
       "      <th>SMA200</th>\n",
       "      <th>EMA12</th>\n",
       "      <th>EMA26</th>\n",
       "      <th>RSI</th>\n",
       "      <th>MACD</th>\n",
       "      <th>MACD_Signal</th>\n",
       "      <th>MACD_Hist</th>\n",
       "      <th>ATR</th>\n",
       "      <th>BB_Upper</th>\n",
       "      <th>BB_Middle</th>\n",
       "      <th>BB_Lower</th>\n",
       "      <th>ADX</th>\n",
       "      <th>Close_SMA20_Ratio</th>\n",
       "      <th>Close_SMA50_Ratio</th>\n",
       "      <th>Close_SMA200_Ratio</th>\n",
       "      <th>BB_Position</th>\n",
       "      <th>Golden_Cross</th>\n",
       "      <th>Death_Cross</th>\n",
       "      <th>MACD_Cross_Above</th>\n",
       "      <th>MACD_Cross_Below</th>\n",
       "      <th>Daily_Return</th>\n",
       "      <th>Weekly_Return</th>\n",
       "      <th>Monthly_Return</th>\n",
       "      <th>DayOfWeek</th>\n",
       "      <th>HourOfDay</th>\n",
       "      <th>Volume_SMA20</th>\n",
       "      <th>Volume_Ratio</th>\n",
       "      <th>High_Volume</th>\n",
       "      <th>Volume_Trend</th>\n",
       "      <th>Target</th>\n",
       "    </tr>\n",
       "    <tr>\n",
       "      <th>timestamp</th>\n",
       "      <th></th>\n",
       "      <th></th>\n",
       "      <th></th>\n",
       "      <th></th>\n",
       "      <th></th>\n",
       "      <th></th>\n",
       "      <th></th>\n",
       "      <th></th>\n",
       "      <th></th>\n",
       "      <th></th>\n",
       "      <th></th>\n",
       "      <th></th>\n",
       "      <th></th>\n",
       "      <th></th>\n",
       "      <th></th>\n",
       "      <th></th>\n",
       "      <th></th>\n",
       "      <th></th>\n",
       "      <th></th>\n",
       "      <th></th>\n",
       "      <th></th>\n",
       "      <th></th>\n",
       "      <th></th>\n",
       "      <th></th>\n",
       "      <th></th>\n",
       "      <th></th>\n",
       "      <th></th>\n",
       "      <th></th>\n",
       "      <th></th>\n",
       "      <th></th>\n",
       "      <th></th>\n",
       "      <th></th>\n",
       "      <th></th>\n",
       "      <th></th>\n",
       "      <th></th>\n",
       "      <th></th>\n",
       "      <th></th>\n",
       "    </tr>\n",
       "  </thead>\n",
       "  <tbody>\n",
       "    <tr>\n",
       "      <th>2023-01-04 07:45:00+07:00</th>\n",
       "      <td>10865.1790</td>\n",
       "      <td>10869.4990</td>\n",
       "      <td>10863.0590</td>\n",
       "      <td>10865.8590</td>\n",
       "      <td>615540.9981</td>\n",
       "      <td>10857.3405</td>\n",
       "      <td>10875.2554</td>\n",
       "      <td>10940.9238</td>\n",
       "      <td>10860.8206</td>\n",
       "      <td>10860.0048</td>\n",
       "      <td>52.7617</td>\n",
       "      <td>0.8158</td>\n",
       "      <td>-3.4886</td>\n",
       "      <td>4.3045</td>\n",
       "      <td>17.0433</td>\n",
       "      <td>10875.9420</td>\n",
       "      <td>10857.3405</td>\n",
       "      <td>10838.7390</td>\n",
       "      <td>12.2436</td>\n",
       "      <td>1.0008</td>\n",
       "      <td>0.9991</td>\n",
       "      <td>0.9931</td>\n",
       "      <td>0.7290</td>\n",
       "      <td>0</td>\n",
       "      <td>0</td>\n",
       "      <td>0</td>\n",
       "      <td>0</td>\n",
       "      <td>0.0001</td>\n",
       "      <td>0.0005</td>\n",
       "      <td>0.0009</td>\n",
       "      <td>2</td>\n",
       "      <td>7</td>\n",
       "      <td>697819.3479</td>\n",
       "      <td>0.8821</td>\n",
       "      <td>0</td>\n",
       "      <td>-74950.1568</td>\n",
       "      <td>0</td>\n",
       "    </tr>\n",
       "    <tr>\n",
       "      <th>2023-01-04 08:00:00+07:00</th>\n",
       "      <td>10866.2890</td>\n",
       "      <td>10888.4990</td>\n",
       "      <td>10864.2790</td>\n",
       "      <td>10886.5190</td>\n",
       "      <td>699310.9899</td>\n",
       "      <td>10858.0900</td>\n",
       "      <td>10872.6398</td>\n",
       "      <td>10940.5642</td>\n",
       "      <td>10864.7742</td>\n",
       "      <td>10861.9688</td>\n",
       "      <td>61.0539</td>\n",
       "      <td>2.8054</td>\n",
       "      <td>-2.2298</td>\n",
       "      <td>5.0352</td>\n",
       "      <td>17.5559</td>\n",
       "      <td>10879.8566</td>\n",
       "      <td>10858.0900</td>\n",
       "      <td>10836.3234</td>\n",
       "      <td>13.0270</td>\n",
       "      <td>1.0026</td>\n",
       "      <td>1.0013</td>\n",
       "      <td>0.9951</td>\n",
       "      <td>1.1530</td>\n",
       "      <td>0</td>\n",
       "      <td>0</td>\n",
       "      <td>0</td>\n",
       "      <td>0</td>\n",
       "      <td>0.0019</td>\n",
       "      <td>0.0020</td>\n",
       "      <td>0.0014</td>\n",
       "      <td>2</td>\n",
       "      <td>8</td>\n",
       "      <td>623132.4981</td>\n",
       "      <td>1.1223</td>\n",
       "      <td>0</td>\n",
       "      <td>-51319.9744</td>\n",
       "      <td>0</td>\n",
       "    </tr>\n",
       "    <tr>\n",
       "      <th>2023-01-04 08:15:00+07:00</th>\n",
       "      <td>10886.7390</td>\n",
       "      <td>10889.3890</td>\n",
       "      <td>10883.1290</td>\n",
       "      <td>10888.5890</td>\n",
       "      <td>632279.0048</td>\n",
       "      <td>10859.4235</td>\n",
       "      <td>10870.1950</td>\n",
       "      <td>10940.2150</td>\n",
       "      <td>10868.4380</td>\n",
       "      <td>10863.9406</td>\n",
       "      <td>61.7779</td>\n",
       "      <td>4.4974</td>\n",
       "      <td>-0.8844</td>\n",
       "      <td>5.3818</td>\n",
       "      <td>16.7490</td>\n",
       "      <td>10884.9142</td>\n",
       "      <td>10859.4235</td>\n",
       "      <td>10833.9328</td>\n",
       "      <td>13.8060</td>\n",
       "      <td>1.0027</td>\n",
       "      <td>1.0017</td>\n",
       "      <td>0.9953</td>\n",
       "      <td>1.0721</td>\n",
       "      <td>0</td>\n",
       "      <td>0</td>\n",
       "      <td>0</td>\n",
       "      <td>0</td>\n",
       "      <td>0.0002</td>\n",
       "      <td>0.0020</td>\n",
       "      <td>0.0025</td>\n",
       "      <td>2</td>\n",
       "      <td>8</td>\n",
       "      <td>546456.6992</td>\n",
       "      <td>1.1571</td>\n",
       "      <td>0</td>\n",
       "      <td>-26831.4813</td>\n",
       "      <td>0</td>\n",
       "    </tr>\n",
       "    <tr>\n",
       "      <th>2023-01-04 08:30:00+07:00</th>\n",
       "      <td>10888.5670</td>\n",
       "      <td>10900.7990</td>\n",
       "      <td>10885.5290</td>\n",
       "      <td>10895.6290</td>\n",
       "      <td>876665.0111</td>\n",
       "      <td>10861.2760</td>\n",
       "      <td>10868.1340</td>\n",
       "      <td>10939.9009</td>\n",
       "      <td>10872.6212</td>\n",
       "      <td>10866.2879</td>\n",
       "      <td>64.2143</td>\n",
       "      <td>6.3333</td>\n",
       "      <td>0.5591</td>\n",
       "      <td>5.7742</td>\n",
       "      <td>16.6434</td>\n",
       "      <td>10891.2439</td>\n",
       "      <td>10861.2760</td>\n",
       "      <td>10831.3081</td>\n",
       "      <td>15.1534</td>\n",
       "      <td>1.0032</td>\n",
       "      <td>1.0025</td>\n",
       "      <td>0.9960</td>\n",
       "      <td>1.0732</td>\n",
       "      <td>0</td>\n",
       "      <td>0</td>\n",
       "      <td>0</td>\n",
       "      <td>0</td>\n",
       "      <td>0.0006</td>\n",
       "      <td>0.0017</td>\n",
       "      <td>0.0034</td>\n",
       "      <td>2</td>\n",
       "      <td>8</td>\n",
       "      <td>482007.6489</td>\n",
       "      <td>1.8188</td>\n",
       "      <td>1</td>\n",
       "      <td>3451.9274</td>\n",
       "      <td>0</td>\n",
       "    </tr>\n",
       "    <tr>\n",
       "      <th>2023-01-04 08:45:00+07:00</th>\n",
       "      <td>10895.9190</td>\n",
       "      <td>10898.0990</td>\n",
       "      <td>10893.3190</td>\n",
       "      <td>10893.7990</td>\n",
       "      <td>625564.0090</td>\n",
       "      <td>10862.8965</td>\n",
       "      <td>10865.8866</td>\n",
       "      <td>10939.5777</td>\n",
       "      <td>10875.8794</td>\n",
       "      <td>10868.3258</td>\n",
       "      <td>63.0885</td>\n",
       "      <td>7.5536</td>\n",
       "      <td>1.9580</td>\n",
       "      <td>5.5955</td>\n",
       "      <td>15.7960</td>\n",
       "      <td>10896.0494</td>\n",
       "      <td>10862.8965</td>\n",
       "      <td>10829.7436</td>\n",
       "      <td>16.4046</td>\n",
       "      <td>1.0028</td>\n",
       "      <td>1.0026</td>\n",
       "      <td>0.9958</td>\n",
       "      <td>0.9661</td>\n",
       "      <td>0</td>\n",
       "      <td>0</td>\n",
       "      <td>0</td>\n",
       "      <td>0</td>\n",
       "      <td>-0.0002</td>\n",
       "      <td>0.0026</td>\n",
       "      <td>0.0030</td>\n",
       "      <td>2</td>\n",
       "      <td>8</td>\n",
       "      <td>407530.2006</td>\n",
       "      <td>1.5350</td>\n",
       "      <td>1</td>\n",
       "      <td>31288.6061</td>\n",
       "      <td>0</td>\n",
       "    </tr>\n",
       "  </tbody>\n",
       "</table>\n",
       "</div>"
      ],
      "text/plain": [
       "                                Open       High        Low      Close      Volume      SMA20      SMA50     SMA200      EMA12      EMA26     RSI   MACD  MACD_Signal  MACD_Hist     ATR   BB_Upper  BB_Middle   BB_Lower     ADX  Close_SMA20_Ratio  Close_SMA50_Ratio  Close_SMA200_Ratio  BB_Position  Golden_Cross  Death_Cross  MACD_Cross_Above  MACD_Cross_Below  Daily_Return  Weekly_Return  Monthly_Return  DayOfWeek  HourOfDay  Volume_SMA20  Volume_Ratio  High_Volume  Volume_Trend  Target\n",
       "timestamp                                                                                                                                                                                                                                                                                                                                                                                                                                                                                               \n",
       "2023-01-04 07:45:00+07:00 10865.1790 10869.4990 10863.0590 10865.8590 615540.9981 10857.3405 10875.2554 10940.9238 10860.8206 10860.0048 52.7617 0.8158      -3.4886     4.3045 17.0433 10875.9420 10857.3405 10838.7390 12.2436             1.0008             0.9991              0.9931       0.7290             0            0                 0                 0        0.0001         0.0005          0.0009          2          7   697819.3479        0.8821            0   -74950.1568       0\n",
       "2023-01-04 08:00:00+07:00 10866.2890 10888.4990 10864.2790 10886.5190 699310.9899 10858.0900 10872.6398 10940.5642 10864.7742 10861.9688 61.0539 2.8054      -2.2298     5.0352 17.5559 10879.8566 10858.0900 10836.3234 13.0270             1.0026             1.0013              0.9951       1.1530             0            0                 0                 0        0.0019         0.0020          0.0014          2          8   623132.4981        1.1223            0   -51319.9744       0\n",
       "2023-01-04 08:15:00+07:00 10886.7390 10889.3890 10883.1290 10888.5890 632279.0048 10859.4235 10870.1950 10940.2150 10868.4380 10863.9406 61.7779 4.4974      -0.8844     5.3818 16.7490 10884.9142 10859.4235 10833.9328 13.8060             1.0027             1.0017              0.9953       1.0721             0            0                 0                 0        0.0002         0.0020          0.0025          2          8   546456.6992        1.1571            0   -26831.4813       0\n",
       "2023-01-04 08:30:00+07:00 10888.5670 10900.7990 10885.5290 10895.6290 876665.0111 10861.2760 10868.1340 10939.9009 10872.6212 10866.2879 64.2143 6.3333       0.5591     5.7742 16.6434 10891.2439 10861.2760 10831.3081 15.1534             1.0032             1.0025              0.9960       1.0732             0            0                 0                 0        0.0006         0.0017          0.0034          2          8   482007.6489        1.8188            1     3451.9274       0\n",
       "2023-01-04 08:45:00+07:00 10895.9190 10898.0990 10893.3190 10893.7990 625564.0090 10862.8965 10865.8866 10939.5777 10875.8794 10868.3258 63.0885 7.5536       1.9580     5.5955 15.7960 10896.0494 10862.8965 10829.7436 16.4046             1.0028             1.0026              0.9958       0.9661             0            0                 0                 0       -0.0002         0.0026          0.0030          2          8   407530.2006        1.5350            1    31288.6061       0"
      ]
     },
     "execution_count": 2,
     "metadata": {},
     "output_type": "execute_result"
    }
   ],
   "source": [
    "# Try to load processed data from file\n",
    "try:\n",
    "    df_features = pd.read_csv('../processed_data.csv', index_col=0, parse_dates=True)\n",
    "    print(f\"Loaded processed dataset with {df_features.shape[1]} columns and {df_features.shape[0]} rows\")\n",
    "except FileNotFoundError:\n",
    "    print(\"Processed data file not found. Preparing features from raw data...\")\n",
    "    # Load and process raw data\n",
    "    file_path = '../USATECH.IDXUSD_Candlestick_15_M_BID_01.01.2023-18.01.2025.csv'\n",
    "    df_raw = load_data(file_path)\n",
    "    df = preprocess_data(df_raw)\n",
    "    \n",
    "    # Set parameters\n",
    "    future_periods = 10\n",
    "    profit_target = 0.01\n",
    "    stop_loss = 0.005\n",
    "    \n",
    "    # Prepare features\n",
    "    df_features = prepare_features(\n",
    "        df, \n",
    "        include_target=True, \n",
    "        future_periods=future_periods, \n",
    "        profit_target=profit_target, \n",
    "        stop_loss=stop_loss\n",
    "    )\n",
    "    print(f\"Prepared dataset with {df_features.shape[1]} columns and {df_features.shape[0]} rows\")\n",
    "\n",
    "# Display a few rows\n",
    "df_features.head()"
   ]
  },
  {
   "cell_type": "markdown",
   "metadata": {},
   "source": [
    "## 2. Train/Test Split\n",
    "\n",
    "For time series data, we need to be careful about how we split the data. We'll use a time-based split rather than a random split."
   ]
  },
  {
   "cell_type": "code",
   "execution_count": 3,
   "metadata": {},
   "outputs": [
    {
     "name": "stdout",
     "output_type": "stream",
     "text": [
      "Training set: (39852, 37) from 2023-01-04 07:45:00+07:00 to 2024-08-21 14:00:00+07:00\n",
      "Testing set: (9963, 37) from 2024-08-21 14:15:00+07:00 to 2025-01-18 04:00:00+07:00\n"
     ]
    }
   ],
   "source": [
    "# Set parameters\n",
    "test_size = 0.2  # Last 20% for testing\n",
    "\n",
    "# Calculate split index\n",
    "split_idx = int(len(df_features) * (1 - test_size))\n",
    "df_train = df_features.iloc[:split_idx]\n",
    "df_test = df_features.iloc[split_idx:]\n",
    "\n",
    "print(f\"Training set: {df_train.shape} from {df_train.index.min()} to {df_train.index.max()}\")\n",
    "print(f\"Testing set: {df_test.shape} from {df_test.index.min()} to {df_test.index.max()}\")"
   ]
  },
  {
   "cell_type": "markdown",
   "metadata": {},
   "source": [
    "### Check Target Distribution in Train/Test Sets"
   ]
  },
  {
   "cell_type": "code",
   "execution_count": 4,
   "metadata": {},
   "outputs": [
    {
     "name": "stdout",
     "output_type": "stream",
     "text": [
      "Training Set Target Distribution:\n",
      "  Target 0: 38225 samples (95.92%)\n",
      "  Target 1: 862 samples (2.16%)\n",
      "  Target -1: 765 samples (1.92%)\n",
      "\n",
      "Test Set Target Distribution:\n",
      "  Target 0: 9590 samples (96.26%)\n",
      "  Target -1: 285 samples (2.86%)\n",
      "  Target 1: 88 samples (0.88%)\n"
     ]
    }
   ],
   "source": [
    "# Check target distribution in training set\n",
    "train_target_counts = df_train['Target'].value_counts()\n",
    "test_target_counts = df_test['Target'].value_counts()\n",
    "\n",
    "print(\"Training Set Target Distribution:\")\n",
    "for target, count in train_target_counts.items():\n",
    "    print(f\"  Target {target}: {count} samples ({count/len(df_train)*100:.2f}%)\")\n",
    "\n",
    "print(\"\\nTest Set Target Distribution:\")\n",
    "for target, count in test_target_counts.items():\n",
    "    print(f\"  Target {target}: {count} samples ({count/len(df_test)*100:.2f}%)\")"
   ]
  },
  {
   "cell_type": "code",
   "execution_count": 5,
   "metadata": {},
   "outputs": [
    {
     "data": {
      "image/png": "[encoded data removed]",
      "text/plain": [
       "<Figure size 1600x600 with 2 Axes>"
      ]
     },
     "metadata": {},
     "output_type": "display_data"
    }
   ],
   "source": [
    "# Plot target distribution\n",
    "fig, axes = plt.subplots(1, 2, figsize=(16, 6))\n",
    "\n",
    "# Training set\n",
    "axes[0].bar(['Short (-1)', 'Neutral (0)', 'Long (1)'], \n",
    "          [train_target_counts.get(-1, 0), train_target_counts.get(0, 0), train_target_counts.get(1, 0)],\n",
    "          color=['red', 'gray', 'green'])\n",
    "axes[0].set_title('Training Set Target Distribution')\n",
    "axes[0].set_ylabel('Count')\n",
    "axes[0].grid(True, alpha=0.3)\n",
    "\n",
    "# Test set\n",
    "axes[1].bar(['Short (-1)', 'Neutral (0)', 'Long (1)'], \n",
    "          [test_target_counts.get(-1, 0), test_target_counts.get(0, 0), test_target_counts.get(1, 0)],\n",
    "          color=['red', 'gray', 'green'])\n",
    "axes[1].set_title('Test Set Target Distribution')\n",
    "axes[1].set_ylabel('Count')\n",
    "axes[1].grid(True, alpha=0.3)\n",
    "\n",
    "plt.tight_layout()\n",
    "plt.show()"
   ]
  },
  {
   "cell_type": "markdown",
   "metadata": {},
   "source": [
    "## 3. Create and Train Model\n",
    "\n",
    "Now let's create and train our Random Forest model."
   ]
  },
  {
   "cell_type": "code",
   "execution_count": 6,
   "metadata": {},
   "outputs": [
    {
     "name": "stdout",
     "output_type": "stream",
     "text": [
      "X_train shape: (39852, 31)\n",
      "X_test shape: (9963, 31)\n"
     ]
    }
   ],
   "source": [
    "# Initialize model\n",
    "model = RandomForestModel(\n",
    "    n_estimators=100,\n",
    "    max_depth=12,\n",
    "    min_samples_split=10,\n",
    "    random_state=42,\n",
    "    profit_target=0.01,\n",
    "    stop_loss=0.005\n",
    ")\n",
    "\n",
    "# Extract features and target\n",
    "X_train, y_train = model.extract_features_target(df_train)\n",
    "X_test, y_test = model.extract_features_target(df_test)\n",
    "\n",
    "print(f\"X_train shape: {X_train.shape}\")\n",
    "print(f\"X_test shape: {X_test.shape}\")"
   ]
  },
  {
   "cell_type": "code",
   "execution_count": 7,
   "metadata": {},
   "outputs": [
    {
     "name": "stdout",
     "output_type": "stream",
     "text": [
      "Training model...\n",
      "CPU times: user 11.1 s, sys: 86.9 ms, total: 11.1 s\n",
      "Wall time: 11.4 s\n",
      "Training completed!\n"
     ]
    }
   ],
   "source": [
    "# Train the model\n",
    "print(\"Training model...\")\n",
    "%time model.train(X_train, y_train)\n",
    "print(\"Training completed!\")"
   ]
  },
  {
   "cell_type": "markdown",
   "metadata": {},
   "source": [
    "## 4. Model Evaluation\n",
    "\n",
    "Let's evaluate the model's performance on both training and test data."
   ]
  },
  {
   "cell_type": "code",
   "execution_count": 8,
   "metadata": {},
   "outputs": [
    {
     "name": "stdout",
     "output_type": "stream",
     "text": [
      "Training set metrics:\n",
      "  accuracy: 0.9744\n",
      "  precision: 0.9749\n",
      "  recall: 0.9744\n",
      "  f1_score: 0.9686\n",
      "\n",
      "Test set metrics:\n",
      "  accuracy: 0.7390\n",
      "  precision: 0.9317\n",
      "  recall: 0.7390\n",
      "  f1_score: 0.8203\n"
     ]
    }
   ],
   "source": [
    "# Evaluate on training data\n",
    "train_metrics = model.evaluate(X_train, y_train)\n",
    "print(\"Training set metrics:\")\n",
    "for metric, value in train_metrics.items():\n",
    "    print(f\"  {metric}: {value:.4f}\")\n",
    "\n",
    "# Evaluate on test data\n",
    "test_metrics = model.evaluate(X_test, y_test)\n",
    "print(\"\\nTest set metrics:\")\n",
    "for metric, value in test_metrics.items():\n",
    "    print(f\"  {metric}: {value:.4f}\")"
   ]
  },
  {
   "cell_type": "code",
   "execution_count": 9,
   "metadata": {},
   "outputs": [
    {
     "name": "stdout",
     "output_type": "stream",
     "text": [
      "Classification Report:\n",
      "              precision    recall  f1-score   support\n",
      "\n",
      "          -1       0.04      0.30      0.06       285\n",
      "           0       0.97      0.76      0.85      9590\n",
      "           1       0.00      0.00      0.00        88\n",
      "\n",
      "    accuracy                           0.74      9963\n",
      "   macro avg       0.33      0.35      0.30      9963\n",
      "weighted avg       0.93      0.74      0.82      9963\n",
      "\n"
     ]
    },
    {
     "name": "stderr",
     "output_type": "stream",
     "text": [
      "/Users/athapongkaewsalapoom/Development/experimental/trading/.venv/lib/python3.9/site-packages/sklearn/metrics/_classification.py:1565: UndefinedMetricWarning: Precision is ill-defined and being set to 0.0 in labels with no predicted samples. Use `zero_division` parameter to control this behavior.\n",
      "  _warn_prf(average, modifier, f\"{metric.capitalize()} is\", len(result))\n",
      "/Users/athapongkaewsalapoom/Development/experimental/trading/.venv/lib/python3.9/site-packages/sklearn/metrics/_classification.py:1565: UndefinedMetricWarning: Precision is ill-defined and being set to 0.0 in labels with no predicted samples. Use `zero_division` parameter to control this behavior.\n",
      "  _warn_prf(average, modifier, f\"{metric.capitalize()} is\", len(result))\n",
      "/Users/athapongkaewsalapoom/Development/experimental/trading/.venv/lib/python3.9/site-packages/sklearn/metrics/_classification.py:1565: UndefinedMetricWarning: Precision is ill-defined and being set to 0.0 in labels with no predicted samples. Use `zero_division` parameter to control this behavior.\n",
      "  _warn_prf(average, modifier, f\"{metric.capitalize()} is\", len(result))\n"
     ]
    }
   ],
   "source": [
    "# Get detailed classification report\n",
    "y_pred = model.predict(X_test)\n",
    "print(\"Classification Report:\")\n",
    "print(classification_report(y_test, y_pred))"
   ]
  },
  {
   "cell_type": "code",
   "execution_count": 10,
   "metadata": {},
   "outputs": [
    {
     "data": {
      "image/png": "[encoded data removed]",
      "text/plain": [
       "<Figure size 800x600 with 2 Axes>"
      ]
     },
     "metadata": {},
     "output_type": "display_data"
    }
   ],
   "source": [
    "# Plot confusion matrix\n",
    "conf_mat = confusion_matrix(y_test, y_pred)\n",
    "plt.figure(figsize=(8, 6))\n",
    "sns.heatmap(conf_mat, annot=True, fmt='d', cmap='Blues',\n",
    "           xticklabels=['Short', 'Neutral', 'Long'] if len(set(y_test)) == 3 else ['Neutral', 'Long'],\n",
    "           yticklabels=['Short', 'Neutral', 'Long'] if len(set(y_test)) == 3 else ['Neutral', 'Long'])\n",
    "plt.title('Confusion Matrix')\n",
    "plt.xlabel('Predicted')\n",
    "plt.ylabel('Actual')\n",
    "plt.tight_layout()\n",
    "plt.show()"
   ]
  },
  {
   "cell_type": "markdown",
   "metadata": {},
   "source": [
    "## 5. Feature Importance Analysis\n",
    "\n",
    "Let's analyze which features were most important in our model."
   ]
  },
  {
   "cell_type": "code",
   "execution_count": 11,
   "metadata": {},
   "outputs": [
    {
     "name": "stdout",
     "output_type": "stream",
     "text": [
      "Top 15 important features:\n"
     ]
    },
    {
     "data": {
      "application/vnd.microsoft.datawrangler.viewer.v0+json": {
       "columns": [
        {
         "name": "index",
         "rawType": "int64",
         "type": "integer"
        },
        {
         "name": "Feature",
         "rawType": "object",
         "type": "string"
        },
        {
         "name": "Importance",
         "rawType": "float64",
         "type": "float"
        }
       ],
       "conversionMethod": "pd.DataFrame",
       "ref": "46a84b6d-092a-4c05-94d3-ed608cf5efb6",
       "rows": [
        [
         "16",
         "Close_SMA200_Ratio",
         "0.09814611288983462"
        ],
        [
         "2",
         "SMA200",
         "0.08161341428878888"
        ],
        [
         "1",
         "SMA50",
         "0.07053546837691074"
        ],
        [
         "4",
         "EMA26",
         "0.06408892438823506"
        ],
        [
         "3",
         "EMA12",
         "0.05976996529684746"
        ],
        [
         "11",
         "BB_Middle",
         "0.054860061748571165"
        ],
        [
         "0",
         "SMA20",
         "0.05232120967851"
        ],
        [
         "9",
         "ATR",
         "0.05132099517823643"
        ],
        [
         "12",
         "BB_Lower",
         "0.05113041981403755"
        ],
        [
         "10",
         "BB_Upper",
         "0.05046111936823423"
        ],
        [
         "26",
         "HourOfDay",
         "0.044593734202986936"
        ],
        [
         "27",
         "Volume_SMA20",
         "0.033554301484849655"
        ],
        [
         "13",
         "ADX",
         "0.032493361765046275"
        ],
        [
         "7",
         "MACD_Signal",
         "0.03023869466056672"
        ],
        [
         "15",
         "Close_SMA50_Ratio",
         "0.027638123232322103"
        ]
       ],
       "shape": {
        "columns": 2,
        "rows": 15
       }
      },
      "text/html": [
       "<div>\n",
       "<style scoped>\n",
       "    .dataframe tbody tr th:only-of-type {\n",
       "        vertical-align: middle;\n",
       "    }\n",
       "\n",
       "    .dataframe tbody tr th {\n",
       "        vertical-align: top;\n",
       "    }\n",
       "\n",
       "    .dataframe thead th {\n",
       "        text-align: right;\n",
       "    }\n",
       "</style>\n",
       "<table border=\"1\" class=\"dataframe\">\n",
       "  <thead>\n",
       "    <tr style=\"text-align: right;\">\n",
       "      <th></th>\n",
       "      <th>Feature</th>\n",
       "      <th>Importance</th>\n",
       "    </tr>\n",
       "  </thead>\n",
       "  <tbody>\n",
       "    <tr>\n",
       "      <th>16</th>\n",
       "      <td>Close_SMA200_Ratio</td>\n",
       "      <td>0.0981</td>\n",
       "    </tr>\n",
       "    <tr>\n",
       "      <th>2</th>\n",
       "      <td>SMA200</td>\n",
       "      <td>0.0816</td>\n",
       "    </tr>\n",
       "    <tr>\n",
       "      <th>1</th>\n",
       "      <td>SMA50</td>\n",
       "      <td>0.0705</td>\n",
       "    </tr>\n",
       "    <tr>\n",
       "      <th>4</th>\n",
       "      <td>EMA26</td>\n",
       "      <td>0.0641</td>\n",
       "    </tr>\n",
       "    <tr>\n",
       "      <th>3</th>\n",
       "      <td>EMA12</td>\n",
       "      <td>0.0598</td>\n",
       "    </tr>\n",
       "    <tr>\n",
       "      <th>11</th>\n",
       "      <td>BB_Middle</td>\n",
       "      <td>0.0549</td>\n",
       "    </tr>\n",
       "    <tr>\n",
       "      <th>0</th>\n",
       "      <td>SMA20</td>\n",
       "      <td>0.0523</td>\n",
       "    </tr>\n",
       "    <tr>\n",
       "      <th>9</th>\n",
       "      <td>ATR</td>\n",
       "      <td>0.0513</td>\n",
       "    </tr>\n",
       "    <tr>\n",
       "      <th>12</th>\n",
       "      <td>BB_Lower</td>\n",
       "      <td>0.0511</td>\n",
       "    </tr>\n",
       "    <tr>\n",
       "      <th>10</th>\n",
       "      <td>BB_Upper</td>\n",
       "      <td>0.0505</td>\n",
       "    </tr>\n",
       "    <tr>\n",
       "      <th>26</th>\n",
       "      <td>HourOfDay</td>\n",
       "      <td>0.0446</td>\n",
       "    </tr>\n",
       "    <tr>\n",
       "      <th>27</th>\n",
       "      <td>Volume_SMA20</td>\n",
       "      <td>0.0336</td>\n",
       "    </tr>\n",
       "    <tr>\n",
       "      <th>13</th>\n",
       "      <td>ADX</td>\n",
       "      <td>0.0325</td>\n",
       "    </tr>\n",
       "    <tr>\n",
       "      <th>7</th>\n",
       "      <td>MACD_Signal</td>\n",
       "      <td>0.0302</td>\n",
       "    </tr>\n",
       "    <tr>\n",
       "      <th>15</th>\n",
       "      <td>Close_SMA50_Ratio</td>\n",
       "      <td>0.0276</td>\n",
       "    </tr>\n",
       "  </tbody>\n",
       "</table>\n",
       "</div>"
      ],
      "text/plain": [
       "               Feature  Importance\n",
       "16  Close_SMA200_Ratio      0.0981\n",
       "2               SMA200      0.0816\n",
       "1                SMA50      0.0705\n",
       "4                EMA26      0.0641\n",
       "3                EMA12      0.0598\n",
       "11           BB_Middle      0.0549\n",
       "0                SMA20      0.0523\n",
       "9                  ATR      0.0513\n",
       "12            BB_Lower      0.0511\n",
       "10            BB_Upper      0.0505\n",
       "26           HourOfDay      0.0446\n",
       "27        Volume_SMA20      0.0336\n",
       "13                 ADX      0.0325\n",
       "7          MACD_Signal      0.0302\n",
       "15   Close_SMA50_Ratio      0.0276"
      ]
     },
     "execution_count": 11,
     "metadata": {},
     "output_type": "execute_result"
    }
   ],
   "source": [
    "# Get feature importance\n",
    "feature_importance = model.get_feature_importance()\n",
    "print(\"Top 15 important features:\")\n",
    "feature_importance.head(15)"
   ]
  },
  {
   "cell_type": "code",
   "execution_count": 12,
   "metadata": {},
   "outputs": [
    {
     "data": {
      "image/png": "[encoded data removed]",
      "text/plain": [
       "<Figure size 1000x800 with 1 Axes>"
      ]
     },
     "metadata": {},
     "output_type": "display_data"
    }
   ],
   "source": [
    "# Plot feature importance\n",
    "fig = plot_feature_importance(feature_importance, top_n=15)\n",
    "plt.tight_layout()\n",
    "plt.show()"
   ]
  },
  {
   "cell_type": "markdown",
   "metadata": {},
   "source": [
    "## 6. Cross-Validation with Time Series Split\n",
    "\n",
    "Let's perform time series cross-validation to get a more robust estimate of our model's performance."
   ]
  },
  {
   "cell_type": "code",
   "execution_count": 13,
   "metadata": {},
   "outputs": [
    {
     "name": "stdout",
     "output_type": "stream",
     "text": [
      "Fold 1 - Accuracy: 0.9772, F1 Score: 0.9660\n",
      "Fold 2 - Accuracy: 0.9737, F1 Score: 0.9608\n",
      "Fold 3 - Accuracy: 0.9730, F1 Score: 0.9597\n",
      "Fold 4 - Accuracy: 0.9339, F1 Score: 0.9019\n",
      "Fold 5 - Accuracy: 0.7155, F1 Score: 0.8102\n"
     ]
    }
   ],
   "source": [
    "# Extract all features and target\n",
    "X, y = model.extract_features_target(df_features)\n",
    "\n",
    "# Set up time series cross-validation\n",
    "tscv = TimeSeriesSplit(n_splits=5)\n",
    "\n",
    "# Performance metrics for each fold\n",
    "cv_scores = []\n",
    "\n",
    "for train_idx, test_idx in tscv.split(X):\n",
    "    # Get train/test split for this fold\n",
    "    X_train_fold, X_test_fold = X[train_idx], X[test_idx]\n",
    "    y_train_fold, y_test_fold = y[train_idx], y[test_idx]\n",
    "    \n",
    "    # Create and train a new model\n",
    "    fold_model = RandomForestModel(\n",
    "        n_estimators=100,\n",
    "        max_depth=12,\n",
    "        min_samples_split=10,\n",
    "        random_state=42\n",
    "    )\n",
    "    \n",
    "    # Train the model\n",
    "    fold_model.train(X_train_fold, y_train_fold)\n",
    "    \n",
    "    # Evaluate the model\n",
    "    metrics = fold_model.evaluate(X_test_fold, y_test_fold)\n",
    "    cv_scores.append(metrics)\n",
    "    \n",
    "    print(f\"Fold {len(cv_scores)} - Accuracy: {metrics['accuracy']:.4f}, F1 Score: {metrics['f1_score']:.4f}\")"
   ]
  },
  {
   "cell_type": "code",
   "execution_count": 14,
   "metadata": {},
   "outputs": [
    {
     "name": "stdout",
     "output_type": "stream",
     "text": [
      "Average metrics across folds:\n",
      "  accuracy: 0.9147\n",
      "  precision: 0.9341\n",
      "  recall: 0.9147\n",
      "  f1_score: 0.9197\n"
     ]
    }
   ],
   "source": [
    "# Calculate average metrics across folds\n",
    "avg_metrics = {}\n",
    "for metric in cv_scores[0].keys():\n",
    "    avg_metrics[metric] = np.mean([fold[metric] for fold in cv_scores])\n",
    "\n",
    "print(\"Average metrics across folds:\")\n",
    "for metric, value in avg_metrics.items():\n",
    "    print(f\"  {metric}: {value:.4f}\")"
   ]
  },
  {
   "cell_type": "markdown",
   "metadata": {},
   "source": [
    "## 7. Prediction Explanation\n",
    "\n",
    "Let's examine some specific predictions and get explanations for them."
   ]
  },
  {
   "cell_type": "code",
   "execution_count": 15,
   "metadata": {},
   "outputs": [],
   "source": [
    "# Get test set predictions\n",
    "test_pred = model.predict(X_test)\n",
    "test_proba = model.predict_proba(X_test)\n",
    "\n",
    "# Find some interesting predictions\n",
    "# 1. A high confidence correct prediction\n",
    "high_conf_correct = []\n",
    "# 2. A low confidence prediction\n",
    "low_conf = []\n",
    "# 3. An incorrect prediction\n",
    "incorrect = []\n",
    "\n",
    "for i in range(len(test_pred)):\n",
    "    pred = test_pred[i]\n",
    "    actual = y_test[i]\n",
    "    \n",
    "    # Get prediction probability\n",
    "    if pred == 0:\n",
    "        prob = test_proba[i][0]\n",
    "    elif pred == 1 and len(test_proba[i]) > 1:\n",
    "        prob = test_proba[i][1]\n",
    "    elif pred == -1 and len(test_proba[i]) > 2:\n",
    "        prob = test_proba[i][2]\n",
    "    else:\n",
    "        prob = test_proba[i][0]\n",
    "    \n",
    "    # Check prediction categories\n",
    "    if pred == actual and prob > 0.8 and len(high_conf_correct) < 1:\n",
    "        high_conf_correct.append(i)\n",
    "    elif 0.5 < prob < 0.6 and len(low_conf) < 1:\n",
    "        low_conf.append(i)\n",
    "    elif pred != actual and len(incorrect) < 1:\n",
    "        incorrect.append(i)\n",
    "    \n",
    "    # Break if we found examples for all categories\n",
    "    if len(high_conf_correct) >= 1 and len(low_conf) >= 1 and len(incorrect) >= 1:\n",
    "        break"
   ]
  },
  {
   "cell_type": "code",
   "execution_count": 16,
   "metadata": {},
   "outputs": [
    {
     "name": "stdout",
     "output_type": "stream",
     "text": [
      "\n",
      "Explanation for incorrect prediction:\n",
      "Date: 2024-08-22 17:30:00+07:00\n",
      "Actual: -1, Predicted: 0, Confidence: 0.30%\n",
      "Predicted no significant move with 0.3% confidence based on:\n",
      "- Price is near SMA200 (1.00)\n",
      "- SMA200 value is 19770.52\n",
      "- SMA50 value is 19825.20\n",
      "- EMA26 value is 19828.45\n",
      "- EMA12 value is 19836.37\n",
      "\n",
      "Recommendation: Stay on the sidelines, no clear trading opportunity\n"
     ]
    }
   ],
   "source": [
    "# Get explanations for interesting predictions\n",
    "if high_conf_correct:\n",
    "    print(\"Explanation for high confidence correct prediction:\")\n",
    "    idx = high_conf_correct[0]\n",
    "    explanation = model.explain_prediction(X_test[idx], test_pred[idx], test_proba[idx])\n",
    "    print(f\"Date: {df_test.index[idx]}\")\n",
    "    print(f\"Actual: {y_test[idx]}, Predicted: {test_pred[idx]}, Confidence: {explanation['confidence']:.2%}\")\n",
    "    print(explanation['explanation'])\n",
    "    print(\"\\n\" + \"-\"*80)\n",
    "\n",
    "if low_conf:\n",
    "    print(\"\\nExplanation for low confidence prediction:\")\n",
    "    idx = low_conf[0]\n",
    "    explanation = model.explain_prediction(X_test[idx], test_pred[idx], test_proba[idx])\n",
    "    print(f\"Date: {df_test.index[idx]}\")\n",
    "    print(f\"Actual: {y_test[idx]}, Predicted: {test_pred[idx]}, Confidence: {explanation['confidence']:.2%}\")\n",
    "    print(explanation['explanation'])\n",
    "    print(\"\\n\" + \"-\"*80)\n",
    "\n",
    "if incorrect:\n",
    "    print(\"\\nExplanation for incorrect prediction:\")\n",
    "    idx = incorrect[0]\n",
    "    explanation = model.explain_prediction(X_test[idx], test_pred[idx], test_proba[idx])\n",
    "    print(f\"Date: {df_test.index[idx]}\")\n",
    "    print(f\"Actual: {y_test[idx]}, Predicted: {test_pred[idx]}, Confidence: {explanation['confidence']:.2%}\")\n",
    "    print(explanation['explanation'])"
   ]
  },
  {
   "cell_type": "markdown",
   "metadata": {},
   "source": [
    "## 8. Save Trained Model\n",
    "\n",
    "Let's save our trained model for use in backtesting and future predictions."
   ]
  },
  {
   "cell_type": "code",
   "execution_count": 17,
   "metadata": {},
   "outputs": [
    {
     "name": "stdout",
     "output_type": "stream",
     "text": [
      "Model saved to: ../trained_model.pkl\n"
     ]
    }
   ],
   "source": [
    "# Save the model\n",
    "model_path = model.save('../trained_model.pkl')\n",
    "print(f\"Model saved to: {model_path}\")"
   ]
  },
  {
   "cell_type": "markdown",
   "metadata": {},
   "source": [
    "## Summary\n",
    "\n",
    "In this notebook, we've accomplished the following:\n",
    "\n",
    "1. Loaded our preprocessed dataset\n",
    "2. Split the data into training and test sets using a time-based approach\n",
    "3. Created and trained a Random Forest model for predicting trading entry points\n",
    "4. Evaluated the model's performance on both training and test data\n",
    "5. Analyzed feature importance to understand what drives the model's predictions\n",
    "6. Performed time series cross-validation for more robust performance estimates\n",
    "7. Generated explanations for specific predictions\n",
    "8. Saved our trained model for future use\n",
    "\n",
    "Next, we'll use our trained model for backtesting to see how it would have performed in historical trading scenarios."
   ]
  }
 ],
 "metadata": {
  "kernelspec": {
   "display_name": ".venv",
   "language": "python",
   "name": "python3"
  },
  "language_info": {
   "codemirror_mode": {
    "name": "ipython",
    "version": 3
   },
   "file_extension": ".py",
   "mimetype": "text/x-python",
   "name": "python",
   "nbconvert_exporter": "python",
   "pygments_lexer": "ipython3",
   "version": "3.9.6"
  }
 },
 "nbformat": 4,
 "nbformat_minor": 4
}
